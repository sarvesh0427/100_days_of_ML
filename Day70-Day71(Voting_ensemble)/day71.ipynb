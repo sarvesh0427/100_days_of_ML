{
 "cells": [
  {
   "cell_type": "markdown",
   "id": "87734765-e0f8-41a3-88af-845e9b1ff68e",
   "metadata": {},
   "source": [
    "# Voting Ensemble | Regression"
   ]
  },
  {
   "cell_type": "code",
   "execution_count": 14,
   "id": "c629eb4f-2f56-4c05-93e7-44a2b814079d",
   "metadata": {},
   "outputs": [],
   "source": [
    "import numpy as np\n",
    "from sklearn.datasets import fetch_california_housing"
   ]
  },
  {
   "cell_type": "code",
   "execution_count": 15,
   "id": "609fc6dd-72f7-4a19-892e-ab28787629d6",
   "metadata": {},
   "outputs": [],
   "source": [
    "X,y = fetch_california_housing(return_X_y = True)"
   ]
  },
  {
   "cell_type": "code",
   "execution_count": 16,
   "id": "2df50518-6a0b-4c6b-a309-8fa126000352",
   "metadata": {},
   "outputs": [
    {
     "data": {
      "text/plain": [
       "(20640, 8)"
      ]
     },
     "execution_count": 16,
     "metadata": {},
     "output_type": "execute_result"
    }
   ],
   "source": [
    "X.shape"
   ]
  },
  {
   "cell_type": "code",
   "execution_count": 17,
   "id": "c5f931f0-1d20-4d66-af40-5b88afcc2e26",
   "metadata": {},
   "outputs": [
    {
     "data": {
      "text/plain": [
       "(20640,)"
      ]
     },
     "execution_count": 17,
     "metadata": {},
     "output_type": "execute_result"
    }
   ],
   "source": [
    "y.shape"
   ]
  },
  {
   "cell_type": "code",
   "execution_count": 20,
   "id": "166438d1-a9eb-45e1-992e-2699fd51e8fa",
   "metadata": {},
   "outputs": [],
   "source": [
    "from sklearn.linear_model import LinearRegression\n",
    "from sklearn.tree import DecisionTreeRegressor\n",
    "from sklearn.linear_model import Ridge\n",
    "from sklearn.model_selection import cross_val_score"
   ]
  },
  {
   "cell_type": "code",
   "execution_count": 21,
   "id": "83ec51c5-00a4-4681-b9e8-7aa3475f778f",
   "metadata": {},
   "outputs": [],
   "source": [
    "lr = LinearRegression()\n",
    "dt = DecisionTreeRegressor()\n",
    "rd = Ridge()"
   ]
  },
  {
   "cell_type": "code",
   "execution_count": 22,
   "id": "1e693db4-c451-43e9-bf86-915dccbeb019",
   "metadata": {},
   "outputs": [],
   "source": [
    "estimators = [('lr',lr),('dt',dt),('rd',rd)]"
   ]
  },
  {
   "cell_type": "code",
   "execution_count": 23,
   "id": "df10dcf6-e036-405b-ac2c-64052093f2aa",
   "metadata": {},
   "outputs": [
    {
     "name": "stdout",
     "output_type": "stream",
     "text": [
      "lr 0.51\n",
      "dt 0.24\n",
      "rd 0.51\n"
     ]
    }
   ],
   "source": [
    "for estimator in estimators:\n",
    "    scores = cross_val_score(estimator[1], X,y, scoring='r2', cv=10)\n",
    "    print(estimator[0], np.round(np.mean(scores),2))"
   ]
  },
  {
   "cell_type": "code",
   "execution_count": 24,
   "id": "bf1e88cc-4414-447e-a317-705c5cd2285a",
   "metadata": {},
   "outputs": [],
   "source": [
    "from sklearn.ensemble import VotingRegressor"
   ]
  },
  {
   "cell_type": "code",
   "execution_count": 25,
   "id": "229db7a6-924c-4773-854c-21866b4490a8",
   "metadata": {},
   "outputs": [
    {
     "name": "stdout",
     "output_type": "stream",
     "text": [
      "Voting regressor:  0.56\n"
     ]
    }
   ],
   "source": [
    "vr = VotingRegressor(estimators)\n",
    "scores = cross_val_score(vr, X,y, scoring='r2', cv=10)\n",
    "print('Voting regressor: ', np.round(np.mean(scores),2))"
   ]
  },
  {
   "cell_type": "code",
   "execution_count": 26,
   "id": "b5b57a02-9744-4be4-8d27-75e72eec4e71",
   "metadata": {},
   "outputs": [
    {
     "name": "stdout",
     "output_type": "stream",
     "text": [
      "for i =1, j=1,k=1 0.56\n",
      "for i =1, j=1,k=2 0.56\n",
      "for i =1, j=1,k=3 0.56\n",
      "for i =1, j=2,k=1 0.53\n",
      "for i =1, j=2,k=2 0.55\n",
      "for i =1, j=2,k=3 0.56\n",
      "for i =1, j=3,k=1 0.5\n",
      "for i =1, j=3,k=2 0.54\n",
      "for i =1, j=3,k=3 0.56\n",
      "for i =2, j=1,k=1 0.56\n",
      "for i =2, j=1,k=2 0.56\n",
      "for i =2, j=1,k=3 0.55\n",
      "for i =2, j=2,k=1 0.56\n",
      "for i =2, j=2,k=2 0.56\n",
      "for i =2, j=2,k=3 0.56\n",
      "for i =2, j=3,k=1 0.54\n",
      "for i =2, j=3,k=2 0.55\n",
      "for i =2, j=3,k=3 0.56\n",
      "for i =3, j=1,k=1 0.56\n",
      "for i =3, j=1,k=2 0.56\n",
      "for i =3, j=1,k=3 0.55\n",
      "for i =3, j=2,k=1 0.56\n",
      "for i =3, j=2,k=2 0.56\n",
      "for i =3, j=2,k=3 0.56\n",
      "for i =3, j=3,k=1 0.55\n",
      "for i =3, j=3,k=2 0.56\n",
      "for i =3, j=3,k=3 0.56\n"
     ]
    }
   ],
   "source": [
    "for i in range(1,4):\n",
    "    for j in range(1,4):\n",
    "        for k in range(1,4):\n",
    "            vr = VotingRegressor(estimators, weights=[i,j,k])\n",
    "            scores = cross_val_score(vr,X,y, scoring='r2',cv=10)\n",
    "            print('for i ={}, j={},k={}'.format(i,j,k), np.round(np.mean(scores),2))"
   ]
  },
  {
   "cell_type": "markdown",
   "id": "abe3be1e-7cfc-45c6-9d34-f9bb095c171d",
   "metadata": {},
   "source": [
    "### using same algorithm"
   ]
  },
  {
   "cell_type": "code",
   "execution_count": 27,
   "id": "4da28bd2-8a21-4222-8b4c-f9ea65eb57cf",
   "metadata": {},
   "outputs": [],
   "source": [
    "dt1 = DecisionTreeRegressor(max_depth=1)\n",
    "dt2 = DecisionTreeRegressor(max_depth=3)\n",
    "dt3 = DecisionTreeRegressor(max_depth=5)\n",
    "dt4 = DecisionTreeRegressor(max_depth=7)\n",
    "dt5 = DecisionTreeRegressor(max_depth=None)"
   ]
  },
  {
   "cell_type": "code",
   "execution_count": 28,
   "id": "691bdad5-74bf-43f8-9868-2d9b729000c1",
   "metadata": {},
   "outputs": [],
   "source": [
    "estimators = [('dt1',dt1),('dt2',dt2),('dt3',dt3),('dt4',dt4),('dt5',dt5)]"
   ]
  },
  {
   "cell_type": "code",
   "execution_count": 29,
   "id": "bb3719ee-c516-4831-9637-e509bf8d92fd",
   "metadata": {},
   "outputs": [
    {
     "name": "stdout",
     "output_type": "stream",
     "text": [
      "dt1 0.13\n",
      "dt2 0.36\n",
      "dt3 0.43\n",
      "dt4 0.47\n",
      "dt5 0.23\n"
     ]
    }
   ],
   "source": [
    "for estimator in estimators:\n",
    "    scores = cross_val_score(estimator[1],X,y,scoring='r2',cv=10)\n",
    "    print(estimator[0],np.round(np.mean(scores),2))"
   ]
  },
  {
   "cell_type": "code",
   "execution_count": 30,
   "id": "e3273540-2361-439e-a7ed-6d72955a3c60",
   "metadata": {},
   "outputs": [
    {
     "name": "stdout",
     "output_type": "stream",
     "text": [
      "Voting Regressor 0.5\n"
     ]
    }
   ],
   "source": [
    "vr = VotingRegressor(estimators)\n",
    "scores = cross_val_score(vr,X,y,scoring='r2',cv=10)\n",
    "print(\"Voting Regressor\",np.round(np.mean(scores),2))"
   ]
  },
  {
   "cell_type": "code",
   "execution_count": null,
   "id": "7d8c332a-db36-4643-b3c2-4cc2d16aa9b1",
   "metadata": {},
   "outputs": [],
   "source": []
  }
 ],
 "metadata": {
  "kernelspec": {
   "display_name": "Python [conda env:base] *",
   "language": "python",
   "name": "conda-base-py"
  },
  "language_info": {
   "codemirror_mode": {
    "name": "ipython",
    "version": 3
   },
   "file_extension": ".py",
   "mimetype": "text/x-python",
   "name": "python",
   "nbconvert_exporter": "python",
   "pygments_lexer": "ipython3",
   "version": "3.12.7"
  }
 },
 "nbformat": 4,
 "nbformat_minor": 5
}
