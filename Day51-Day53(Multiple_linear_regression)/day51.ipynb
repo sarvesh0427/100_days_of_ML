{
 "cells": [
  {
   "cell_type": "markdown",
   "id": "f57cb57e-1e80-45b9-a5f1-06de1e4b8115",
   "metadata": {},
   "source": [
    "# Multiple Linear Regression part 1 | Geometric intuition "
   ]
  },
  {
   "cell_type": "code",
   "execution_count": 32,
   "id": "114283d1-3456-4c2c-8d7a-5ddf4a24d433",
   "metadata": {},
   "outputs": [],
   "source": [
    "import pandas as pd\n",
    "import numpy as np "
   ]
  },
  {
   "cell_type": "code",
   "execution_count": 33,
   "id": "cd593db3-3bdd-41a4-9e0e-850faabc9b5f",
   "metadata": {},
   "outputs": [],
   "source": [
    "from sklearn.datasets import make_regression "
   ]
  },
  {
   "cell_type": "code",
   "execution_count": 34,
   "id": "dbff7663-9a44-4cc1-abb5-2c29a3782b66",
   "metadata": {},
   "outputs": [],
   "source": [
    "X,y = make_regression(n_samples=100, n_features=2, n_informative=2, n_targets=1, noise=50)"
   ]
  },
  {
   "cell_type": "code",
   "execution_count": 35,
   "id": "bf4f805b-88a7-4853-9732-028e68492386",
   "metadata": {},
   "outputs": [],
   "source": [
    "df = pd.DataFrame({'feature1':X[:,0],'feature2':X[:,1], 'target':y})"
   ]
  },
  {
   "cell_type": "code",
   "execution_count": 36,
   "id": "55a32395-63f9-4485-aaed-fb2e5f595413",
   "metadata": {},
   "outputs": [
    {
     "data": {
      "text/html": [
       "<div>\n",
       "<style scoped>\n",
       "    .dataframe tbody tr th:only-of-type {\n",
       "        vertical-align: middle;\n",
       "    }\n",
       "\n",
       "    .dataframe tbody tr th {\n",
       "        vertical-align: top;\n",
       "    }\n",
       "\n",
       "    .dataframe thead th {\n",
       "        text-align: right;\n",
       "    }\n",
       "</style>\n",
       "<table border=\"1\" class=\"dataframe\">\n",
       "  <thead>\n",
       "    <tr style=\"text-align: right;\">\n",
       "      <th></th>\n",
       "      <th>feature1</th>\n",
       "      <th>feature2</th>\n",
       "      <th>target</th>\n",
       "    </tr>\n",
       "  </thead>\n",
       "  <tbody>\n",
       "    <tr>\n",
       "      <th>0</th>\n",
       "      <td>-1.274486</td>\n",
       "      <td>-2.393049</td>\n",
       "      <td>-103.558661</td>\n",
       "    </tr>\n",
       "    <tr>\n",
       "      <th>1</th>\n",
       "      <td>0.651319</td>\n",
       "      <td>-1.076713</td>\n",
       "      <td>-54.045609</td>\n",
       "    </tr>\n",
       "    <tr>\n",
       "      <th>2</th>\n",
       "      <td>-0.323866</td>\n",
       "      <td>0.247139</td>\n",
       "      <td>-79.079138</td>\n",
       "    </tr>\n",
       "    <tr>\n",
       "      <th>3</th>\n",
       "      <td>-0.780158</td>\n",
       "      <td>0.172773</td>\n",
       "      <td>-80.017332</td>\n",
       "    </tr>\n",
       "    <tr>\n",
       "      <th>4</th>\n",
       "      <td>0.810728</td>\n",
       "      <td>-1.255968</td>\n",
       "      <td>-44.066018</td>\n",
       "    </tr>\n",
       "  </tbody>\n",
       "</table>\n",
       "</div>"
      ],
      "text/plain": [
       "   feature1  feature2      target\n",
       "0 -1.274486 -2.393049 -103.558661\n",
       "1  0.651319 -1.076713  -54.045609\n",
       "2 -0.323866  0.247139  -79.079138\n",
       "3 -0.780158  0.172773  -80.017332\n",
       "4  0.810728 -1.255968  -44.066018"
      ]
     },
     "execution_count": 36,
     "metadata": {},
     "output_type": "execute_result"
    }
   ],
   "source": [
    "df.head()"
   ]
  },
  {
   "cell_type": "code",
   "execution_count": 37,
   "id": "e3ee9b3d-f620-472f-9587-f2d8fdb88f51",
   "metadata": {},
   "outputs": [
    {
     "data": {
      "text/plain": [
       "(100, 3)"
      ]
     },
     "execution_count": 37,
     "metadata": {},
     "output_type": "execute_result"
    }
   ],
   "source": [
    "df.shape"
   ]
  },
  {
   "cell_type": "code",
   "execution_count": 38,
   "id": "9ae7ccb4-5eba-46ab-96de-a60a23c1ea32",
   "metadata": {},
   "outputs": [],
   "source": [
    "import plotly.express as px\n",
    "import plotly.graph_objects as go"
   ]
  },
  {
   "cell_type": "code",
   "execution_count": 39,
   "id": "55d0a274-8f96-4a64-b920-c2345d2bc0ac",
   "metadata": {},
   "outputs": [
    {
     "data": {
      "application/vnd.plotly.v1+json": {
       "config": {
        "plotlyServerURL": "https://plot.ly"
       },
       "data": [
        {
         "hovertemplate": "feature1=%{x}<br>feature2=%{y}<br>target=%{z}<extra></extra>",
         "legendgroup": "",
         "marker": {
          "color": "#636efa",
          "symbol": "circle"
         },
         "mode": "markers",
         "name": "",
         "scene": "scene",
         "showlegend": false,
         "type": "scatter3d",
         "x": [
          -1.274485731303676,
          0.6513189866114012,
          -0.3238656411200676,
          -0.7801583667189367,
          0.8107275076076823,
          -0.7173629975059127,
          -2.3906183451179164,
          -0.14168030336709894,
          -0.32179662861827735,
          -0.6493965207558864,
          0.12685816424823665,
          1.8239872335974163,
          -0.3933293932562831,
          -0.32981892239784755,
          0.8526764998974374,
          -0.7639308251862112,
          1.5348840500045446,
          -0.662854233839368,
          -0.5461132761692997,
          -0.06372582639424498,
          0.6310694977213681,
          1.2034666439024138,
          -1.4849827003073854,
          -1.065583017213554,
          0.14210487526760698,
          -0.19798536440166958,
          0.8830290230762057,
          -0.2712003332131632,
          -1.9891604216069723,
          0.05526966574602957,
          -0.6609397191885622,
          -0.2819344018470352,
          0.19484455164613343,
          0.9096366344178585,
          -0.15609054641732614,
          0.02774853598575179,
          0.19508185207865497,
          -1.2808948567609644,
          0.3718087061535325,
          1.4508322243164538,
          -1.43123008518727,
          0.20581618670551236,
          -0.5908294266068597,
          0.7648399370526029,
          0.10114108748241815,
          -0.05301741343030152,
          -0.11315254248172107,
          -0.2493794717038075,
          -1.3482688702031276,
          0.2523754940691204,
          -0.36218501899946,
          3.0347866872220517,
          0.5667947079319734,
          0.4835682153214534,
          -1.1445887125908347,
          2.100317217118081,
          -0.667990792452194,
          -0.6868155744203469,
          -0.34822201381957235,
          -0.22067070304773959,
          0.9569030259353457,
          0.16403873022676094,
          0.8403447535401081,
          0.7375502197225122,
          -2.1676831212254424,
          -0.6056479580506823,
          1.8781282473781444,
          0.28934465407495713,
          -0.2720260814032744,
          -1.3691374768038815,
          0.1895399724364921,
          -1.3385672280198657,
          0.10519567695683409,
          0.9043250507389343,
          -2.5157438350850656,
          -0.20409883582247546,
          0.5810126797253878,
          0.07770394710726532,
          -1.0011596165533863,
          -1.3862922381649785,
          -0.752549718595784,
          -0.41395041643157304,
          0.4790358148649697,
          -0.4472704121770206,
          -0.13851029938447834,
          0.24253834201367838,
          0.8053207865023992,
          -0.03986908732689859,
          -0.2502792440912182,
          -0.03563958405339583,
          0.27064162120814755,
          1.7147115199457685,
          0.1482682948461758,
          1.071557666601268,
          0.5593904770428378,
          -0.8535703621100718,
          -1.0924537531790908,
          -0.8461147610331691,
          -1.0693928041502467,
          -0.3682242236468344
         ],
         "y": [
          -2.3930491096017428,
          -1.0767134320038796,
          0.2471390998919602,
          0.17277263439801102,
          -1.255968031521497,
          0.13010453991183896,
          0.3841313232378402,
          1.8901862708444794,
          0.8286413113167214,
          -1.9281717545345747,
          0.11329880056465834,
          0.32418803496438126,
          -0.868896214006827,
          1.2652005199769762,
          -0.7157097230142747,
          0.2094091361754571,
          -0.032878918430854484,
          0.5847435406571289,
          1.392291311197453,
          1.4378908882870185,
          0.2964075945198076,
          -0.07306615290903352,
          -1.5692893130417558,
          -0.6692361987635723,
          0.1823061346164062,
          0.8889894092153303,
          0.539240878030504,
          -1.1300984091703088,
          0.5427135850552761,
          1.2836945846688428,
          1.0864938434930873,
          0.004002137866108592,
          -1.399703186018996,
          -0.2035900475909041,
          0.007698878363315305,
          -0.7934871863048978,
          -0.226799464606556,
          -1.868875371397136,
          0.4791757687449805,
          -1.3267197046971186,
          0.15782675083188275,
          1.1272685562582292,
          -1.6905448736130637,
          1.0102991618651278,
          -0.9639187509633402,
          -2.004140084331977,
          -1.0332282391384833,
          -0.8330839754182848,
          -2.0461430066488613,
          -0.6269165650970049,
          -0.2456813716831204,
          2.1632566930643224,
          1.080428851940174,
          0.0595428966134265,
          0.3939978648820627,
          -0.3614220445521553,
          0.060254418663847654,
          -0.3615764003436403,
          -2.7858457478809444,
          -0.582541339441394,
          -0.5335982734926974,
          0.17848885323434605,
          -0.9523594108505643,
          1.012467770313244,
          -0.4427297214067952,
          -0.3295013544625451,
          1.1258228088021796,
          -1.4813874946167258,
          0.5299709429942269,
          1.8438777448936106,
          0.4015674685552618,
          1.6433295536263444,
          -0.82888091975733,
          -0.6649985085082991,
          -0.5079376060437081,
          0.4089594490000415,
          -0.33770106228315566,
          -1.3456114849250131,
          -1.1545186449192957,
          0.18793952995697044,
          -0.8642708938379905,
          -0.19284841082557577,
          0.4190625172478453,
          0.8665111329142724,
          0.5408019404437621,
          -1.5120332823638152,
          0.37826300385313777,
          -1.0704092887514511,
          0.4681876653867563,
          1.0450845203476091,
          -0.3358997659484303,
          0.5546505594333196,
          -2.0825912546522862,
          -1.5342173571348288,
          0.308852211657613,
          -0.5883976552244623,
          -0.6223493881833645,
          -0.7016121876218642,
          0.20424796998690128,
          -0.6209456889775025
         ],
         "z": [
          -103.558661194736,
          -54.045609115374106,
          -79.07913824416201,
          -80.01733224643178,
          -44.066018118169815,
          -32.785147603998034,
          -9.912573945633739,
          46.17928991869823,
          95.17680699555861,
          -162.12694351163168,
          -135.0280585735941,
          -3.8867309495646936,
          -82.36016890513392,
          2.2781896465670357,
          3.3488112203447145,
          -40.29606905401384,
          22.32458338269281,
          136.700886736318,
          98.44824423773994,
          37.288181301832175,
          102.90851289487561,
          -27.531169192570392,
          -30.75147863392374,
          -88.714880712103,
          -11.510599880162134,
          75.65875300156078,
          112.69333247574731,
          -144.131119643052,
          -17.599058824359727,
          117.51841488216024,
          103.04668263088246,
          -63.657463035420925,
          -78.53210124511463,
          2.3720678989114266,
          -133.0163944742717,
          -6.0296606455478,
          8.204671484275904,
          -131.2661211799617,
          53.40854532099469,
          -26.375904784886263,
          -15.076510143405823,
          13.385841772442582,
          -183.7475344914577,
          21.66727400336964,
          -59.99045623612867,
          -221.02228833209853,
          -12.351608099569063,
          6.37905225251253,
          -187.4482099496017,
          -57.22635017107898,
          19.285200271690613,
          232.47061816655872,
          101.25869705038366,
          141.57883147609584,
          -11.931338073102076,
          9.3082183137353,
          -85.34789515624152,
          35.53019495244867,
          -106.87215869167947,
          -109.18438953107031,
          59.01707280891229,
          4.819828605138365,
          -2.8179877016831014,
          113.2708039147725,
          -131.4818492855224,
          -11.823029896166055,
          194.0321912134454,
          -80.28390050272735,
          13.586525670774176,
          67.66327891969956,
          51.399746434761944,
          23.301485159511472,
          -55.65996390452731,
          -33.676442578199385,
          -34.080591555759646,
          -22.165716252804135,
          -18.082040922886925,
          -12.980522265560438,
          -86.34685616149152,
          -127.89969214247009,
          -59.25737081778954,
          59.23789283050127,
          15.747663253290263,
          -32.0229668478723,
          -15.149086104635206,
          -36.406268650602,
          71.16355977392847,
          -116.22094178988536,
          20.562649042117595,
          1.3972310684765077,
          -62.367014225178494,
          23.001333512872435,
          -110.05374905847354,
          -149.1714689106439,
          36.18724162299277,
          -93.85003642468048,
          -19.94661570920661,
          -77.4008640721039,
          36.987888457550355,
          14.912690727898223
         ]
        }
       ],
       "layout": {
        "autosize": true,
        "legend": {
         "tracegroupgap": 0
        },
        "margin": {
         "t": 60
        },
        "scene": {
         "aspectmode": "auto",
         "aspectratio": {
          "x": 1,
          "y": 1,
          "z": 1
         },
         "domain": {
          "x": [
           0,
           1
          ],
          "y": [
           0,
           1
          ]
         },
         "xaxis": {
          "title": {
           "text": "feature1"
          },
          "type": "linear"
         },
         "yaxis": {
          "title": {
           "text": "feature2"
          },
          "type": "linear"
         },
         "zaxis": {
          "title": {
           "text": "target"
          },
          "type": "linear"
         }
        },
        "template": {
         "data": {
          "bar": [
           {
            "error_x": {
             "color": "#2a3f5f"
            },
            "error_y": {
             "color": "#2a3f5f"
            },
            "marker": {
             "line": {
              "color": "#E5ECF6",
              "width": 0.5
             },
             "pattern": {
              "fillmode": "overlay",
              "size": 10,
              "solidity": 0.2
             }
            },
            "type": "bar"
           }
          ],
          "barpolar": [
           {
            "marker": {
             "line": {
              "color": "#E5ECF6",
              "width": 0.5
             },
             "pattern": {
              "fillmode": "overlay",
              "size": 10,
              "solidity": 0.2
             }
            },
            "type": "barpolar"
           }
          ],
          "carpet": [
           {
            "aaxis": {
             "endlinecolor": "#2a3f5f",
             "gridcolor": "white",
             "linecolor": "white",
             "minorgridcolor": "white",
             "startlinecolor": "#2a3f5f"
            },
            "baxis": {
             "endlinecolor": "#2a3f5f",
             "gridcolor": "white",
             "linecolor": "white",
             "minorgridcolor": "white",
             "startlinecolor": "#2a3f5f"
            },
            "type": "carpet"
           }
          ],
          "choropleth": [
           {
            "colorbar": {
             "outlinewidth": 0,
             "ticks": ""
            },
            "type": "choropleth"
           }
          ],
          "contour": [
           {
            "colorbar": {
             "outlinewidth": 0,
             "ticks": ""
            },
            "colorscale": [
             [
              0,
              "#0d0887"
             ],
             [
              0.1111111111111111,
              "#46039f"
             ],
             [
              0.2222222222222222,
              "#7201a8"
             ],
             [
              0.3333333333333333,
              "#9c179e"
             ],
             [
              0.4444444444444444,
              "#bd3786"
             ],
             [
              0.5555555555555556,
              "#d8576b"
             ],
             [
              0.6666666666666666,
              "#ed7953"
             ],
             [
              0.7777777777777778,
              "#fb9f3a"
             ],
             [
              0.8888888888888888,
              "#fdca26"
             ],
             [
              1,
              "#f0f921"
             ]
            ],
            "type": "contour"
           }
          ],
          "contourcarpet": [
           {
            "colorbar": {
             "outlinewidth": 0,
             "ticks": ""
            },
            "type": "contourcarpet"
           }
          ],
          "heatmap": [
           {
            "colorbar": {
             "outlinewidth": 0,
             "ticks": ""
            },
            "colorscale": [
             [
              0,
              "#0d0887"
             ],
             [
              0.1111111111111111,
              "#46039f"
             ],
             [
              0.2222222222222222,
              "#7201a8"
             ],
             [
              0.3333333333333333,
              "#9c179e"
             ],
             [
              0.4444444444444444,
              "#bd3786"
             ],
             [
              0.5555555555555556,
              "#d8576b"
             ],
             [
              0.6666666666666666,
              "#ed7953"
             ],
             [
              0.7777777777777778,
              "#fb9f3a"
             ],
             [
              0.8888888888888888,
              "#fdca26"
             ],
             [
              1,
              "#f0f921"
             ]
            ],
            "type": "heatmap"
           }
          ],
          "heatmapgl": [
           {
            "colorbar": {
             "outlinewidth": 0,
             "ticks": ""
            },
            "colorscale": [
             [
              0,
              "#0d0887"
             ],
             [
              0.1111111111111111,
              "#46039f"
             ],
             [
              0.2222222222222222,
              "#7201a8"
             ],
             [
              0.3333333333333333,
              "#9c179e"
             ],
             [
              0.4444444444444444,
              "#bd3786"
             ],
             [
              0.5555555555555556,
              "#d8576b"
             ],
             [
              0.6666666666666666,
              "#ed7953"
             ],
             [
              0.7777777777777778,
              "#fb9f3a"
             ],
             [
              0.8888888888888888,
              "#fdca26"
             ],
             [
              1,
              "#f0f921"
             ]
            ],
            "type": "heatmapgl"
           }
          ],
          "histogram": [
           {
            "marker": {
             "pattern": {
              "fillmode": "overlay",
              "size": 10,
              "solidity": 0.2
             }
            },
            "type": "histogram"
           }
          ],
          "histogram2d": [
           {
            "colorbar": {
             "outlinewidth": 0,
             "ticks": ""
            },
            "colorscale": [
             [
              0,
              "#0d0887"
             ],
             [
              0.1111111111111111,
              "#46039f"
             ],
             [
              0.2222222222222222,
              "#7201a8"
             ],
             [
              0.3333333333333333,
              "#9c179e"
             ],
             [
              0.4444444444444444,
              "#bd3786"
             ],
             [
              0.5555555555555556,
              "#d8576b"
             ],
             [
              0.6666666666666666,
              "#ed7953"
             ],
             [
              0.7777777777777778,
              "#fb9f3a"
             ],
             [
              0.8888888888888888,
              "#fdca26"
             ],
             [
              1,
              "#f0f921"
             ]
            ],
            "type": "histogram2d"
           }
          ],
          "histogram2dcontour": [
           {
            "colorbar": {
             "outlinewidth": 0,
             "ticks": ""
            },
            "colorscale": [
             [
              0,
              "#0d0887"
             ],
             [
              0.1111111111111111,
              "#46039f"
             ],
             [
              0.2222222222222222,
              "#7201a8"
             ],
             [
              0.3333333333333333,
              "#9c179e"
             ],
             [
              0.4444444444444444,
              "#bd3786"
             ],
             [
              0.5555555555555556,
              "#d8576b"
             ],
             [
              0.6666666666666666,
              "#ed7953"
             ],
             [
              0.7777777777777778,
              "#fb9f3a"
             ],
             [
              0.8888888888888888,
              "#fdca26"
             ],
             [
              1,
              "#f0f921"
             ]
            ],
            "type": "histogram2dcontour"
           }
          ],
          "mesh3d": [
           {
            "colorbar": {
             "outlinewidth": 0,
             "ticks": ""
            },
            "type": "mesh3d"
           }
          ],
          "parcoords": [
           {
            "line": {
             "colorbar": {
              "outlinewidth": 0,
              "ticks": ""
             }
            },
            "type": "parcoords"
           }
          ],
          "pie": [
           {
            "automargin": true,
            "type": "pie"
           }
          ],
          "scatter": [
           {
            "fillpattern": {
             "fillmode": "overlay",
             "size": 10,
             "solidity": 0.2
            },
            "type": "scatter"
           }
          ],
          "scatter3d": [
           {
            "line": {
             "colorbar": {
              "outlinewidth": 0,
              "ticks": ""
             }
            },
            "marker": {
             "colorbar": {
              "outlinewidth": 0,
              "ticks": ""
             }
            },
            "type": "scatter3d"
           }
          ],
          "scattercarpet": [
           {
            "marker": {
             "colorbar": {
              "outlinewidth": 0,
              "ticks": ""
             }
            },
            "type": "scattercarpet"
           }
          ],
          "scattergeo": [
           {
            "marker": {
             "colorbar": {
              "outlinewidth": 0,
              "ticks": ""
             }
            },
            "type": "scattergeo"
           }
          ],
          "scattergl": [
           {
            "marker": {
             "colorbar": {
              "outlinewidth": 0,
              "ticks": ""
             }
            },
            "type": "scattergl"
           }
          ],
          "scattermapbox": [
           {
            "marker": {
             "colorbar": {
              "outlinewidth": 0,
              "ticks": ""
             }
            },
            "type": "scattermapbox"
           }
          ],
          "scatterpolar": [
           {
            "marker": {
             "colorbar": {
              "outlinewidth": 0,
              "ticks": ""
             }
            },
            "type": "scatterpolar"
           }
          ],
          "scatterpolargl": [
           {
            "marker": {
             "colorbar": {
              "outlinewidth": 0,
              "ticks": ""
             }
            },
            "type": "scatterpolargl"
           }
          ],
          "scatterternary": [
           {
            "marker": {
             "colorbar": {
              "outlinewidth": 0,
              "ticks": ""
             }
            },
            "type": "scatterternary"
           }
          ],
          "surface": [
           {
            "colorbar": {
             "outlinewidth": 0,
             "ticks": ""
            },
            "colorscale": [
             [
              0,
              "#0d0887"
             ],
             [
              0.1111111111111111,
              "#46039f"
             ],
             [
              0.2222222222222222,
              "#7201a8"
             ],
             [
              0.3333333333333333,
              "#9c179e"
             ],
             [
              0.4444444444444444,
              "#bd3786"
             ],
             [
              0.5555555555555556,
              "#d8576b"
             ],
             [
              0.6666666666666666,
              "#ed7953"
             ],
             [
              0.7777777777777778,
              "#fb9f3a"
             ],
             [
              0.8888888888888888,
              "#fdca26"
             ],
             [
              1,
              "#f0f921"
             ]
            ],
            "type": "surface"
           }
          ],
          "table": [
           {
            "cells": {
             "fill": {
              "color": "#EBF0F8"
             },
             "line": {
              "color": "white"
             }
            },
            "header": {
             "fill": {
              "color": "#C8D4E3"
             },
             "line": {
              "color": "white"
             }
            },
            "type": "table"
           }
          ]
         },
         "layout": {
          "annotationdefaults": {
           "arrowcolor": "#2a3f5f",
           "arrowhead": 0,
           "arrowwidth": 1
          },
          "autotypenumbers": "strict",
          "coloraxis": {
           "colorbar": {
            "outlinewidth": 0,
            "ticks": ""
           }
          },
          "colorscale": {
           "diverging": [
            [
             0,
             "#8e0152"
            ],
            [
             0.1,
             "#c51b7d"
            ],
            [
             0.2,
             "#de77ae"
            ],
            [
             0.3,
             "#f1b6da"
            ],
            [
             0.4,
             "#fde0ef"
            ],
            [
             0.5,
             "#f7f7f7"
            ],
            [
             0.6,
             "#e6f5d0"
            ],
            [
             0.7,
             "#b8e186"
            ],
            [
             0.8,
             "#7fbc41"
            ],
            [
             0.9,
             "#4d9221"
            ],
            [
             1,
             "#276419"
            ]
           ],
           "sequential": [
            [
             0,
             "#0d0887"
            ],
            [
             0.1111111111111111,
             "#46039f"
            ],
            [
             0.2222222222222222,
             "#7201a8"
            ],
            [
             0.3333333333333333,
             "#9c179e"
            ],
            [
             0.4444444444444444,
             "#bd3786"
            ],
            [
             0.5555555555555556,
             "#d8576b"
            ],
            [
             0.6666666666666666,
             "#ed7953"
            ],
            [
             0.7777777777777778,
             "#fb9f3a"
            ],
            [
             0.8888888888888888,
             "#fdca26"
            ],
            [
             1,
             "#f0f921"
            ]
           ],
           "sequentialminus": [
            [
             0,
             "#0d0887"
            ],
            [
             0.1111111111111111,
             "#46039f"
            ],
            [
             0.2222222222222222,
             "#7201a8"
            ],
            [
             0.3333333333333333,
             "#9c179e"
            ],
            [
             0.4444444444444444,
             "#bd3786"
            ],
            [
             0.5555555555555556,
             "#d8576b"
            ],
            [
             0.6666666666666666,
             "#ed7953"
            ],
            [
             0.7777777777777778,
             "#fb9f3a"
            ],
            [
             0.8888888888888888,
             "#fdca26"
            ],
            [
             1,
             "#f0f921"
            ]
           ]
          },
          "colorway": [
           "#636efa",
           "#EF553B",
           "#00cc96",
           "#ab63fa",
           "#FFA15A",
           "#19d3f3",
           "#FF6692",
           "#B6E880",
           "#FF97FF",
           "#FECB52"
          ],
          "font": {
           "color": "#2a3f5f"
          },
          "geo": {
           "bgcolor": "white",
           "lakecolor": "white",
           "landcolor": "#E5ECF6",
           "showlakes": true,
           "showland": true,
           "subunitcolor": "white"
          },
          "hoverlabel": {
           "align": "left"
          },
          "hovermode": "closest",
          "mapbox": {
           "style": "light"
          },
          "paper_bgcolor": "white",
          "plot_bgcolor": "#E5ECF6",
          "polar": {
           "angularaxis": {
            "gridcolor": "white",
            "linecolor": "white",
            "ticks": ""
           },
           "bgcolor": "#E5ECF6",
           "radialaxis": {
            "gridcolor": "white",
            "linecolor": "white",
            "ticks": ""
           }
          },
          "scene": {
           "xaxis": {
            "backgroundcolor": "#E5ECF6",
            "gridcolor": "white",
            "gridwidth": 2,
            "linecolor": "white",
            "showbackground": true,
            "ticks": "",
            "zerolinecolor": "white"
           },
           "yaxis": {
            "backgroundcolor": "#E5ECF6",
            "gridcolor": "white",
            "gridwidth": 2,
            "linecolor": "white",
            "showbackground": true,
            "ticks": "",
            "zerolinecolor": "white"
           },
           "zaxis": {
            "backgroundcolor": "#E5ECF6",
            "gridcolor": "white",
            "gridwidth": 2,
            "linecolor": "white",
            "showbackground": true,
            "ticks": "",
            "zerolinecolor": "white"
           }
          },
          "shapedefaults": {
           "line": {
            "color": "#2a3f5f"
           }
          },
          "ternary": {
           "aaxis": {
            "gridcolor": "white",
            "linecolor": "white",
            "ticks": ""
           },
           "baxis": {
            "gridcolor": "white",
            "linecolor": "white",
            "ticks": ""
           },
           "bgcolor": "#E5ECF6",
           "caxis": {
            "gridcolor": "white",
            "linecolor": "white",
            "ticks": ""
           }
          },
          "title": {
           "x": 0.05
          },
          "xaxis": {
           "automargin": true,
           "gridcolor": "white",
           "linecolor": "white",
           "ticks": "",
           "title": {
            "standoff": 15
           },
           "zerolinecolor": "white",
           "zerolinewidth": 2
          },
          "yaxis": {
           "automargin": true,
           "gridcolor": "white",
           "linecolor": "white",
           "ticks": "",
           "title": {
            "standoff": 15
           },
           "zerolinecolor": "white",
           "zerolinewidth": 2
          }
         }
        }
       }
      },
      "image/png": "[encoded data removed]",
      "text/html": [
       "<div>                            <div id=\"d4140f2a-b04c-4421-942b-7c3f9195d6d2\" class=\"plotly-graph-div\" style=\"height:525px; width:100%;\"></div>            <script type=\"text/javascript\">                require([\"plotly\"], function(Plotly) {                    window.PLOTLYENV=window.PLOTLYENV || {};                                    if (document.getElementById(\"d4140f2a-b04c-4421-942b-7c3f9195d6d2\")) {                    Plotly.newPlot(                        \"d4140f2a-b04c-4421-942b-7c3f9195d6d2\",                        [{\"hovertemplate\":\"feature1=%{x}\\u003cbr\\u003efeature2=%{y}\\u003cbr\\u003etarget=%{z}\\u003cextra\\u003e\\u003c\\u002fextra\\u003e\",\"legendgroup\":\"\",\"marker\":{\"color\":\"#636efa\",\"symbol\":\"circle\"},\"mode\":\"markers\",\"name\":\"\",\"scene\":\"scene\",\"showlegend\":false,\"x\":[-1.274485731303676,0.6513189866114012,-0.3238656411200676,-0.7801583667189367,0.8107275076076823,-0.7173629975059127,-2.3906183451179164,-0.14168030336709894,-0.32179662861827735,-0.6493965207558864,0.12685816424823665,1.8239872335974163,-0.3933293932562831,-0.32981892239784755,0.8526764998974374,-0.7639308251862112,1.5348840500045446,-0.662854233839368,-0.5461132761692997,-0.06372582639424498,0.6310694977213681,1.2034666439024138,-1.4849827003073854,-1.065583017213554,0.14210487526760698,-0.19798536440166958,0.8830290230762057,-0.2712003332131632,-1.9891604216069723,0.05526966574602957,-0.6609397191885622,-0.2819344018470352,0.19484455164613343,0.9096366344178585,-0.15609054641732614,0.02774853598575179,0.19508185207865497,-1.2808948567609644,0.3718087061535325,1.4508322243164538,-1.43123008518727,0.20581618670551236,-0.5908294266068597,0.7648399370526029,0.10114108748241815,-0.05301741343030152,-0.11315254248172107,-0.2493794717038075,-1.3482688702031276,0.2523754940691204,-0.36218501899946,3.0347866872220517,0.5667947079319734,0.4835682153214534,-1.1445887125908347,2.100317217118081,-0.667990792452194,-0.6868155744203469,-0.34822201381957235,-0.22067070304773959,0.9569030259353457,0.16403873022676094,0.8403447535401081,0.7375502197225122,-2.1676831212254424,-0.6056479580506823,1.8781282473781444,0.28934465407495713,-0.2720260814032744,-1.3691374768038815,0.1895399724364921,-1.3385672280198657,0.10519567695683409,0.9043250507389343,-2.5157438350850656,-0.20409883582247546,0.5810126797253878,0.07770394710726532,-1.0011596165533863,-1.3862922381649785,-0.752549718595784,-0.41395041643157304,0.4790358148649697,-0.4472704121770206,-0.13851029938447834,0.24253834201367838,0.8053207865023992,-0.03986908732689859,-0.2502792440912182,-0.03563958405339583,0.27064162120814755,1.7147115199457685,0.1482682948461758,1.071557666601268,0.5593904770428378,-0.8535703621100718,-1.0924537531790908,-0.8461147610331691,-1.0693928041502467,-0.3682242236468344],\"y\":[-2.3930491096017428,-1.0767134320038796,0.2471390998919602,0.17277263439801102,-1.255968031521497,0.13010453991183896,0.3841313232378402,1.8901862708444794,0.8286413113167214,-1.9281717545345747,0.11329880056465834,0.32418803496438126,-0.868896214006827,1.2652005199769762,-0.7157097230142747,0.2094091361754571,-0.032878918430854484,0.5847435406571289,1.392291311197453,1.4378908882870185,0.2964075945198076,-0.07306615290903352,-1.5692893130417558,-0.6692361987635723,0.1823061346164062,0.8889894092153303,0.539240878030504,-1.1300984091703088,0.5427135850552761,1.2836945846688428,1.0864938434930873,0.004002137866108592,-1.399703186018996,-0.2035900475909041,0.007698878363315305,-0.7934871863048978,-0.226799464606556,-1.868875371397136,0.4791757687449805,-1.3267197046971186,0.15782675083188275,1.1272685562582292,-1.6905448736130637,1.0102991618651278,-0.9639187509633402,-2.004140084331977,-1.0332282391384833,-0.8330839754182848,-2.0461430066488613,-0.6269165650970049,-0.2456813716831204,2.1632566930643224,1.080428851940174,0.0595428966134265,0.3939978648820627,-0.3614220445521553,0.060254418663847654,-0.3615764003436403,-2.7858457478809444,-0.582541339441394,-0.5335982734926974,0.17848885323434605,-0.9523594108505643,1.012467770313244,-0.4427297214067952,-0.3295013544625451,1.1258228088021796,-1.4813874946167258,0.5299709429942269,1.8438777448936106,0.4015674685552618,1.6433295536263444,-0.82888091975733,-0.6649985085082991,-0.5079376060437081,0.4089594490000415,-0.33770106228315566,-1.3456114849250131,-1.1545186449192957,0.18793952995697044,-0.8642708938379905,-0.19284841082557577,0.4190625172478453,0.8665111329142724,0.5408019404437621,-1.5120332823638152,0.37826300385313777,-1.0704092887514511,0.4681876653867563,1.0450845203476091,-0.3358997659484303,0.5546505594333196,-2.0825912546522862,-1.5342173571348288,0.308852211657613,-0.5883976552244623,-0.6223493881833645,-0.7016121876218642,0.20424796998690128,-0.6209456889775025],\"z\":[-103.558661194736,-54.045609115374106,-79.07913824416201,-80.01733224643178,-44.066018118169815,-32.785147603998034,-9.912573945633739,46.17928991869823,95.17680699555861,-162.12694351163168,-135.0280585735941,-3.8867309495646936,-82.36016890513392,2.2781896465670357,3.3488112203447145,-40.29606905401384,22.32458338269281,136.700886736318,98.44824423773994,37.288181301832175,102.90851289487561,-27.531169192570392,-30.75147863392374,-88.714880712103,-11.510599880162134,75.65875300156078,112.69333247574731,-144.131119643052,-17.599058824359727,117.51841488216024,103.04668263088246,-63.657463035420925,-78.53210124511463,2.3720678989114266,-133.0163944742717,-6.0296606455478,8.204671484275904,-131.2661211799617,53.40854532099469,-26.375904784886263,-15.076510143405823,13.385841772442582,-183.7475344914577,21.66727400336964,-59.99045623612867,-221.02228833209853,-12.351608099569063,6.37905225251253,-187.4482099496017,-57.22635017107898,19.285200271690613,232.47061816655872,101.25869705038366,141.57883147609584,-11.931338073102076,9.3082183137353,-85.34789515624152,35.53019495244867,-106.87215869167947,-109.18438953107031,59.01707280891229,4.819828605138365,-2.8179877016831014,113.2708039147725,-131.4818492855224,-11.823029896166055,194.0321912134454,-80.28390050272735,13.586525670774176,67.66327891969956,51.399746434761944,23.301485159511472,-55.65996390452731,-33.676442578199385,-34.080591555759646,-22.165716252804135,-18.082040922886925,-12.980522265560438,-86.34685616149152,-127.89969214247009,-59.25737081778954,59.23789283050127,15.747663253290263,-32.0229668478723,-15.149086104635206,-36.406268650602,71.16355977392847,-116.22094178988536,20.562649042117595,1.3972310684765077,-62.367014225178494,23.001333512872435,-110.05374905847354,-149.1714689106439,36.18724162299277,-93.85003642468048,-19.94661570920661,-77.4008640721039,36.987888457550355,14.912690727898223],\"type\":\"scatter3d\"}],                        {\"template\":{\"data\":{\"histogram2dcontour\":[{\"type\":\"histogram2dcontour\",\"colorbar\":{\"outlinewidth\":0,\"ticks\":\"\"},\"colorscale\":[[0.0,\"#0d0887\"],[0.1111111111111111,\"#46039f\"],[0.2222222222222222,\"#7201a8\"],[0.3333333333333333,\"#9c179e\"],[0.4444444444444444,\"#bd3786\"],[0.5555555555555556,\"#d8576b\"],[0.6666666666666666,\"#ed7953\"],[0.7777777777777778,\"#fb9f3a\"],[0.8888888888888888,\"#fdca26\"],[1.0,\"#f0f921\"]]}],\"choropleth\":[{\"type\":\"choropleth\",\"colorbar\":{\"outlinewidth\":0,\"ticks\":\"\"}}],\"histogram2d\":[{\"type\":\"histogram2d\",\"colorbar\":{\"outlinewidth\":0,\"ticks\":\"\"},\"colorscale\":[[0.0,\"#0d0887\"],[0.1111111111111111,\"#46039f\"],[0.2222222222222222,\"#7201a8\"],[0.3333333333333333,\"#9c179e\"],[0.4444444444444444,\"#bd3786\"],[0.5555555555555556,\"#d8576b\"],[0.6666666666666666,\"#ed7953\"],[0.7777777777777778,\"#fb9f3a\"],[0.8888888888888888,\"#fdca26\"],[1.0,\"#f0f921\"]]}],\"heatmap\":[{\"type\":\"heatmap\",\"colorbar\":{\"outlinewidth\":0,\"ticks\":\"\"},\"colorscale\":[[0.0,\"#0d0887\"],[0.1111111111111111,\"#46039f\"],[0.2222222222222222,\"#7201a8\"],[0.3333333333333333,\"#9c179e\"],[0.4444444444444444,\"#bd3786\"],[0.5555555555555556,\"#d8576b\"],[0.6666666666666666,\"#ed7953\"],[0.7777777777777778,\"#fb9f3a\"],[0.8888888888888888,\"#fdca26\"],[1.0,\"#f0f921\"]]}],\"heatmapgl\":[{\"type\":\"heatmapgl\",\"colorbar\":{\"outlinewidth\":0,\"ticks\":\"\"},\"colorscale\":[[0.0,\"#0d0887\"],[0.1111111111111111,\"#46039f\"],[0.2222222222222222,\"#7201a8\"],[0.3333333333333333,\"#9c179e\"],[0.4444444444444444,\"#bd3786\"],[0.5555555555555556,\"#d8576b\"],[0.6666666666666666,\"#ed7953\"],[0.7777777777777778,\"#fb9f3a\"],[0.8888888888888888,\"#fdca26\"],[1.0,\"#f0f921\"]]}],\"contourcarpet\":[{\"type\":\"contourcarpet\",\"colorbar\":{\"outlinewidth\":0,\"ticks\":\"\"}}],\"contour\":[{\"type\":\"contour\",\"colorbar\":{\"outlinewidth\":0,\"ticks\":\"\"},\"colorscale\":[[0.0,\"#0d0887\"],[0.1111111111111111,\"#46039f\"],[0.2222222222222222,\"#7201a8\"],[0.3333333333333333,\"#9c179e\"],[0.4444444444444444,\"#bd3786\"],[0.5555555555555556,\"#d8576b\"],[0.6666666666666666,\"#ed7953\"],[0.7777777777777778,\"#fb9f3a\"],[0.8888888888888888,\"#fdca26\"],[1.0,\"#f0f921\"]]}],\"surface\":[{\"type\":\"surface\",\"colorbar\":{\"outlinewidth\":0,\"ticks\":\"\"},\"colorscale\":[[0.0,\"#0d0887\"],[0.1111111111111111,\"#46039f\"],[0.2222222222222222,\"#7201a8\"],[0.3333333333333333,\"#9c179e\"],[0.4444444444444444,\"#bd3786\"],[0.5555555555555556,\"#d8576b\"],[0.6666666666666666,\"#ed7953\"],[0.7777777777777778,\"#fb9f3a\"],[0.8888888888888888,\"#fdca26\"],[1.0,\"#f0f921\"]]}],\"mesh3d\":[{\"type\":\"mesh3d\",\"colorbar\":{\"outlinewidth\":0,\"ticks\":\"\"}}],\"scatter\":[{\"fillpattern\":{\"fillmode\":\"overlay\",\"size\":10,\"solidity\":0.2},\"type\":\"scatter\"}],\"parcoords\":[{\"type\":\"parcoords\",\"line\":{\"colorbar\":{\"outlinewidth\":0,\"ticks\":\"\"}}}],\"scatterpolargl\":[{\"type\":\"scatterpolargl\",\"marker\":{\"colorbar\":{\"outlinewidth\":0,\"ticks\":\"\"}}}],\"bar\":[{\"error_x\":{\"color\":\"#2a3f5f\"},\"error_y\":{\"color\":\"#2a3f5f\"},\"marker\":{\"line\":{\"color\":\"#E5ECF6\",\"width\":0.5},\"pattern\":{\"fillmode\":\"overlay\",\"size\":10,\"solidity\":0.2}},\"type\":\"bar\"}],\"scattergeo\":[{\"type\":\"scattergeo\",\"marker\":{\"colorbar\":{\"outlinewidth\":0,\"ticks\":\"\"}}}],\"scatterpolar\":[{\"type\":\"scatterpolar\",\"marker\":{\"colorbar\":{\"outlinewidth\":0,\"ticks\":\"\"}}}],\"histogram\":[{\"marker\":{\"pattern\":{\"fillmode\":\"overlay\",\"size\":10,\"solidity\":0.2}},\"type\":\"histogram\"}],\"scattergl\":[{\"type\":\"scattergl\",\"marker\":{\"colorbar\":{\"outlinewidth\":0,\"ticks\":\"\"}}}],\"scatter3d\":[{\"type\":\"scatter3d\",\"line\":{\"colorbar\":{\"outlinewidth\":0,\"ticks\":\"\"}},\"marker\":{\"colorbar\":{\"outlinewidth\":0,\"ticks\":\"\"}}}],\"scattermapbox\":[{\"type\":\"scattermapbox\",\"marker\":{\"colorbar\":{\"outlinewidth\":0,\"ticks\":\"\"}}}],\"scatterternary\":[{\"type\":\"scatterternary\",\"marker\":{\"colorbar\":{\"outlinewidth\":0,\"ticks\":\"\"}}}],\"scattercarpet\":[{\"type\":\"scattercarpet\",\"marker\":{\"colorbar\":{\"outlinewidth\":0,\"ticks\":\"\"}}}],\"carpet\":[{\"aaxis\":{\"endlinecolor\":\"#2a3f5f\",\"gridcolor\":\"white\",\"linecolor\":\"white\",\"minorgridcolor\":\"white\",\"startlinecolor\":\"#2a3f5f\"},\"baxis\":{\"endlinecolor\":\"#2a3f5f\",\"gridcolor\":\"white\",\"linecolor\":\"white\",\"minorgridcolor\":\"white\",\"startlinecolor\":\"#2a3f5f\"},\"type\":\"carpet\"}],\"table\":[{\"cells\":{\"fill\":{\"color\":\"#EBF0F8\"},\"line\":{\"color\":\"white\"}},\"header\":{\"fill\":{\"color\":\"#C8D4E3\"},\"line\":{\"color\":\"white\"}},\"type\":\"table\"}],\"barpolar\":[{\"marker\":{\"line\":{\"color\":\"#E5ECF6\",\"width\":0.5},\"pattern\":{\"fillmode\":\"overlay\",\"size\":10,\"solidity\":0.2}},\"type\":\"barpolar\"}],\"pie\":[{\"automargin\":true,\"type\":\"pie\"}]},\"layout\":{\"autotypenumbers\":\"strict\",\"colorway\":[\"#636efa\",\"#EF553B\",\"#00cc96\",\"#ab63fa\",\"#FFA15A\",\"#19d3f3\",\"#FF6692\",\"#B6E880\",\"#FF97FF\",\"#FECB52\"],\"font\":{\"color\":\"#2a3f5f\"},\"hovermode\":\"closest\",\"hoverlabel\":{\"align\":\"left\"},\"paper_bgcolor\":\"white\",\"plot_bgcolor\":\"#E5ECF6\",\"polar\":{\"bgcolor\":\"#E5ECF6\",\"angularaxis\":{\"gridcolor\":\"white\",\"linecolor\":\"white\",\"ticks\":\"\"},\"radialaxis\":{\"gridcolor\":\"white\",\"linecolor\":\"white\",\"ticks\":\"\"}},\"ternary\":{\"bgcolor\":\"#E5ECF6\",\"aaxis\":{\"gridcolor\":\"white\",\"linecolor\":\"white\",\"ticks\":\"\"},\"baxis\":{\"gridcolor\":\"white\",\"linecolor\":\"white\",\"ticks\":\"\"},\"caxis\":{\"gridcolor\":\"white\",\"linecolor\":\"white\",\"ticks\":\"\"}},\"coloraxis\":{\"colorbar\":{\"outlinewidth\":0,\"ticks\":\"\"}},\"colorscale\":{\"sequential\":[[0.0,\"#0d0887\"],[0.1111111111111111,\"#46039f\"],[0.2222222222222222,\"#7201a8\"],[0.3333333333333333,\"#9c179e\"],[0.4444444444444444,\"#bd3786\"],[0.5555555555555556,\"#d8576b\"],[0.6666666666666666,\"#ed7953\"],[0.7777777777777778,\"#fb9f3a\"],[0.8888888888888888,\"#fdca26\"],[1.0,\"#f0f921\"]],\"sequentialminus\":[[0.0,\"#0d0887\"],[0.1111111111111111,\"#46039f\"],[0.2222222222222222,\"#7201a8\"],[0.3333333333333333,\"#9c179e\"],[0.4444444444444444,\"#bd3786\"],[0.5555555555555556,\"#d8576b\"],[0.6666666666666666,\"#ed7953\"],[0.7777777777777778,\"#fb9f3a\"],[0.8888888888888888,\"#fdca26\"],[1.0,\"#f0f921\"]],\"diverging\":[[0,\"#8e0152\"],[0.1,\"#c51b7d\"],[0.2,\"#de77ae\"],[0.3,\"#f1b6da\"],[0.4,\"#fde0ef\"],[0.5,\"#f7f7f7\"],[0.6,\"#e6f5d0\"],[0.7,\"#b8e186\"],[0.8,\"#7fbc41\"],[0.9,\"#4d9221\"],[1,\"#276419\"]]},\"xaxis\":{\"gridcolor\":\"white\",\"linecolor\":\"white\",\"ticks\":\"\",\"title\":{\"standoff\":15},\"zerolinecolor\":\"white\",\"automargin\":true,\"zerolinewidth\":2},\"yaxis\":{\"gridcolor\":\"white\",\"linecolor\":\"white\",\"ticks\":\"\",\"title\":{\"standoff\":15},\"zerolinecolor\":\"white\",\"automargin\":true,\"zerolinewidth\":2},\"scene\":{\"xaxis\":{\"backgroundcolor\":\"#E5ECF6\",\"gridcolor\":\"white\",\"linecolor\":\"white\",\"showbackground\":true,\"ticks\":\"\",\"zerolinecolor\":\"white\",\"gridwidth\":2},\"yaxis\":{\"backgroundcolor\":\"#E5ECF6\",\"gridcolor\":\"white\",\"linecolor\":\"white\",\"showbackground\":true,\"ticks\":\"\",\"zerolinecolor\":\"white\",\"gridwidth\":2},\"zaxis\":{\"backgroundcolor\":\"#E5ECF6\",\"gridcolor\":\"white\",\"linecolor\":\"white\",\"showbackground\":true,\"ticks\":\"\",\"zerolinecolor\":\"white\",\"gridwidth\":2}},\"shapedefaults\":{\"line\":{\"color\":\"#2a3f5f\"}},\"annotationdefaults\":{\"arrowcolor\":\"#2a3f5f\",\"arrowhead\":0,\"arrowwidth\":1},\"geo\":{\"bgcolor\":\"white\",\"landcolor\":\"#E5ECF6\",\"subunitcolor\":\"white\",\"showland\":true,\"showlakes\":true,\"lakecolor\":\"white\"},\"title\":{\"x\":0.05},\"mapbox\":{\"style\":\"light\"}}},\"scene\":{\"domain\":{\"x\":[0.0,1.0],\"y\":[0.0,1.0]},\"xaxis\":{\"title\":{\"text\":\"feature1\"}},\"yaxis\":{\"title\":{\"text\":\"feature2\"}},\"zaxis\":{\"title\":{\"text\":\"target\"}}},\"legend\":{\"tracegroupgap\":0},\"margin\":{\"t\":60}},                        {\"responsive\": true}                    ).then(function(){\n",
       "                            \n",
       "var gd = document.getElementById('d4140f2a-b04c-4421-942b-7c3f9195d6d2');\n",
       "var x = new MutationObserver(function (mutations, observer) {{\n",
       "        var display = window.getComputedStyle(gd).display;\n",
       "        if (!display || display === 'none') {{\n",
       "            console.log([gd, 'removed!']);\n",
       "            Plotly.purge(gd);\n",
       "            observer.disconnect();\n",
       "        }}\n",
       "}});\n",
       "\n",
       "// Listen for the removal of the full notebook cells\n",
       "var notebookContainer = gd.closest('#notebook-container');\n",
       "if (notebookContainer) {{\n",
       "    x.observe(notebookContainer, {childList: true});\n",
       "}}\n",
       "\n",
       "// Listen for the clearing of the current output cell\n",
       "var outputEl = gd.closest('.output');\n",
       "if (outputEl) {{\n",
       "    x.observe(outputEl, {childList: true});\n",
       "}}\n",
       "\n",
       "                        })                };                });            </script>        </div>"
      ]
     },
     "metadata": {},
     "output_type": "display_data"
    }
   ],
   "source": [
    "fig = px.scatter_3d(df,x='feature1', y ='feature2', z= 'target')\n",
    "fig.show()"
   ]
  },
  {
   "cell_type": "code",
   "execution_count": 40,
   "id": "bb132252-db97-4971-a8e1-c962da3b0fe1",
   "metadata": {},
   "outputs": [],
   "source": [
    "from sklearn.model_selection import train_test_split \n",
    "X_train,X_test,y_train,y_test = train_test_split(X,y, test_size = 0.2, random_state =42)"
   ]
  },
  {
   "cell_type": "code",
   "execution_count": 41,
   "id": "e7b068a6-d0fc-4009-bf8a-b59ae03accd5",
   "metadata": {},
   "outputs": [],
   "source": [
    "from sklearn.linear_model import LinearRegression"
   ]
  },
  {
   "cell_type": "code",
   "execution_count": 42,
   "id": "6da51df1-ab37-45fa-9119-1b1b750948c5",
   "metadata": {},
   "outputs": [],
   "source": [
    "lr = LinearRegression()"
   ]
  },
  {
   "cell_type": "code",
   "execution_count": 43,
   "id": "f76188a5-d1d7-4a05-906e-cab3fb78b33f",
   "metadata": {},
   "outputs": [
    {
     "data": {
      "text/html": [
       "<style>#sk-container-id-3 {\n",
       "  /* Definition of color scheme common for light and dark mode */\n",
       "  --sklearn-color-text: black;\n",
       "  --sklearn-color-line: gray;\n",
       "  /* Definition of color scheme for unfitted estimators */\n",
       "  --sklearn-color-unfitted-level-0: #fff5e6;\n",
       "  --sklearn-color-unfitted-level-1: #f6e4d2;\n",
       "  --sklearn-color-unfitted-level-2: #ffe0b3;\n",
       "  --sklearn-color-unfitted-level-3: chocolate;\n",
       "  /* Definition of color scheme for fitted estimators */\n",
       "  --sklearn-color-fitted-level-0: #f0f8ff;\n",
       "  --sklearn-color-fitted-level-1: #d4ebff;\n",
       "  --sklearn-color-fitted-level-2: #b3dbfd;\n",
       "  --sklearn-color-fitted-level-3: cornflowerblue;\n",
       "\n",
       "  /* Specific color for light theme */\n",
       "  --sklearn-color-text-on-default-background: var(--sg-text-color, var(--theme-code-foreground, var(--jp-content-font-color1, black)));\n",
       "  --sklearn-color-background: var(--sg-background-color, var(--theme-background, var(--jp-layout-color0, white)));\n",
       "  --sklearn-color-border-box: var(--sg-text-color, var(--theme-code-foreground, var(--jp-content-font-color1, black)));\n",
       "  --sklearn-color-icon: #696969;\n",
       "\n",
       "  @media (prefers-color-scheme: dark) {\n",
       "    /* Redefinition of color scheme for dark theme */\n",
       "    --sklearn-color-text-on-default-background: var(--sg-text-color, var(--theme-code-foreground, var(--jp-content-font-color1, white)));\n",
       "    --sklearn-color-background: var(--sg-background-color, var(--theme-background, var(--jp-layout-color0, #111)));\n",
       "    --sklearn-color-border-box: var(--sg-text-color, var(--theme-code-foreground, var(--jp-content-font-color1, white)));\n",
       "    --sklearn-color-icon: #878787;\n",
       "  }\n",
       "}\n",
       "\n",
       "#sk-container-id-3 {\n",
       "  color: var(--sklearn-color-text);\n",
       "}\n",
       "\n",
       "#sk-container-id-3 pre {\n",
       "  padding: 0;\n",
       "}\n",
       "\n",
       "#sk-container-id-3 input.sk-hidden--visually {\n",
       "  border: 0;\n",
       "  clip: rect(1px 1px 1px 1px);\n",
       "  clip: rect(1px, 1px, 1px, 1px);\n",
       "  height: 1px;\n",
       "  margin: -1px;\n",
       "  overflow: hidden;\n",
       "  padding: 0;\n",
       "  position: absolute;\n",
       "  width: 1px;\n",
       "}\n",
       "\n",
       "#sk-container-id-3 div.sk-dashed-wrapped {\n",
       "  border: 1px dashed var(--sklearn-color-line);\n",
       "  margin: 0 0.4em 0.5em 0.4em;\n",
       "  box-sizing: border-box;\n",
       "  padding-bottom: 0.4em;\n",
       "  background-color: var(--sklearn-color-background);\n",
       "}\n",
       "\n",
       "#sk-container-id-3 div.sk-container {\n",
       "  /* jupyter's `normalize.less` sets `[hidden] { display: none; }`\n",
       "     but bootstrap.min.css set `[hidden] { display: none !important; }`\n",
       "     so we also need the `!important` here to be able to override the\n",
       "     default hidden behavior on the sphinx rendered scikit-learn.org.\n",
       "     See: https://github.com/scikit-learn/scikit-learn/issues/21755 */\n",
       "  display: inline-block !important;\n",
       "  position: relative;\n",
       "}\n",
       "\n",
       "#sk-container-id-3 div.sk-text-repr-fallback {\n",
       "  display: none;\n",
       "}\n",
       "\n",
       "div.sk-parallel-item,\n",
       "div.sk-serial,\n",
       "div.sk-item {\n",
       "  /* draw centered vertical line to link estimators */\n",
       "  background-image: linear-gradient(var(--sklearn-color-text-on-default-background), var(--sklearn-color-text-on-default-background));\n",
       "  background-size: 2px 100%;\n",
       "  background-repeat: no-repeat;\n",
       "  background-position: center center;\n",
       "}\n",
       "\n",
       "/* Parallel-specific style estimator block */\n",
       "\n",
       "#sk-container-id-3 div.sk-parallel-item::after {\n",
       "  content: \"\";\n",
       "  width: 100%;\n",
       "  border-bottom: 2px solid var(--sklearn-color-text-on-default-background);\n",
       "  flex-grow: 1;\n",
       "}\n",
       "\n",
       "#sk-container-id-3 div.sk-parallel {\n",
       "  display: flex;\n",
       "  align-items: stretch;\n",
       "  justify-content: center;\n",
       "  background-color: var(--sklearn-color-background);\n",
       "  position: relative;\n",
       "}\n",
       "\n",
       "#sk-container-id-3 div.sk-parallel-item {\n",
       "  display: flex;\n",
       "  flex-direction: column;\n",
       "}\n",
       "\n",
       "#sk-container-id-3 div.sk-parallel-item:first-child::after {\n",
       "  align-self: flex-end;\n",
       "  width: 50%;\n",
       "}\n",
       "\n",
       "#sk-container-id-3 div.sk-parallel-item:last-child::after {\n",
       "  align-self: flex-start;\n",
       "  width: 50%;\n",
       "}\n",
       "\n",
       "#sk-container-id-3 div.sk-parallel-item:only-child::after {\n",
       "  width: 0;\n",
       "}\n",
       "\n",
       "/* Serial-specific style estimator block */\n",
       "\n",
       "#sk-container-id-3 div.sk-serial {\n",
       "  display: flex;\n",
       "  flex-direction: column;\n",
       "  align-items: center;\n",
       "  background-color: var(--sklearn-color-background);\n",
       "  padding-right: 1em;\n",
       "  padding-left: 1em;\n",
       "}\n",
       "\n",
       "\n",
       "/* Toggleable style: style used for estimator/Pipeline/ColumnTransformer box that is\n",
       "clickable and can be expanded/collapsed.\n",
       "- Pipeline and ColumnTransformer use this feature and define the default style\n",
       "- Estimators will overwrite some part of the style using the `sk-estimator` class\n",
       "*/\n",
       "\n",
       "/* Pipeline and ColumnTransformer style (default) */\n",
       "\n",
       "#sk-container-id-3 div.sk-toggleable {\n",
       "  /* Default theme specific background. It is overwritten whether we have a\n",
       "  specific estimator or a Pipeline/ColumnTransformer */\n",
       "  background-color: var(--sklearn-color-background);\n",
       "}\n",
       "\n",
       "/* Toggleable label */\n",
       "#sk-container-id-3 label.sk-toggleable__label {\n",
       "  cursor: pointer;\n",
       "  display: block;\n",
       "  width: 100%;\n",
       "  margin-bottom: 0;\n",
       "  padding: 0.5em;\n",
       "  box-sizing: border-box;\n",
       "  text-align: center;\n",
       "}\n",
       "\n",
       "#sk-container-id-3 label.sk-toggleable__label-arrow:before {\n",
       "  /* Arrow on the left of the label */\n",
       "  content: \"▸\";\n",
       "  float: left;\n",
       "  margin-right: 0.25em;\n",
       "  color: var(--sklearn-color-icon);\n",
       "}\n",
       "\n",
       "#sk-container-id-3 label.sk-toggleable__label-arrow:hover:before {\n",
       "  color: var(--sklearn-color-text);\n",
       "}\n",
       "\n",
       "/* Toggleable content - dropdown */\n",
       "\n",
       "#sk-container-id-3 div.sk-toggleable__content {\n",
       "  max-height: 0;\n",
       "  max-width: 0;\n",
       "  overflow: hidden;\n",
       "  text-align: left;\n",
       "  /* unfitted */\n",
       "  background-color: var(--sklearn-color-unfitted-level-0);\n",
       "}\n",
       "\n",
       "#sk-container-id-3 div.sk-toggleable__content.fitted {\n",
       "  /* fitted */\n",
       "  background-color: var(--sklearn-color-fitted-level-0);\n",
       "}\n",
       "\n",
       "#sk-container-id-3 div.sk-toggleable__content pre {\n",
       "  margin: 0.2em;\n",
       "  border-radius: 0.25em;\n",
       "  color: var(--sklearn-color-text);\n",
       "  /* unfitted */\n",
       "  background-color: var(--sklearn-color-unfitted-level-0);\n",
       "}\n",
       "\n",
       "#sk-container-id-3 div.sk-toggleable__content.fitted pre {\n",
       "  /* unfitted */\n",
       "  background-color: var(--sklearn-color-fitted-level-0);\n",
       "}\n",
       "\n",
       "#sk-container-id-3 input.sk-toggleable__control:checked~div.sk-toggleable__content {\n",
       "  /* Expand drop-down */\n",
       "  max-height: 200px;\n",
       "  max-width: 100%;\n",
       "  overflow: auto;\n",
       "}\n",
       "\n",
       "#sk-container-id-3 input.sk-toggleable__control:checked~label.sk-toggleable__label-arrow:before {\n",
       "  content: \"▾\";\n",
       "}\n",
       "\n",
       "/* Pipeline/ColumnTransformer-specific style */\n",
       "\n",
       "#sk-container-id-3 div.sk-label input.sk-toggleable__control:checked~label.sk-toggleable__label {\n",
       "  color: var(--sklearn-color-text);\n",
       "  background-color: var(--sklearn-color-unfitted-level-2);\n",
       "}\n",
       "\n",
       "#sk-container-id-3 div.sk-label.fitted input.sk-toggleable__control:checked~label.sk-toggleable__label {\n",
       "  background-color: var(--sklearn-color-fitted-level-2);\n",
       "}\n",
       "\n",
       "/* Estimator-specific style */\n",
       "\n",
       "/* Colorize estimator box */\n",
       "#sk-container-id-3 div.sk-estimator input.sk-toggleable__control:checked~label.sk-toggleable__label {\n",
       "  /* unfitted */\n",
       "  background-color: var(--sklearn-color-unfitted-level-2);\n",
       "}\n",
       "\n",
       "#sk-container-id-3 div.sk-estimator.fitted input.sk-toggleable__control:checked~label.sk-toggleable__label {\n",
       "  /* fitted */\n",
       "  background-color: var(--sklearn-color-fitted-level-2);\n",
       "}\n",
       "\n",
       "#sk-container-id-3 div.sk-label label.sk-toggleable__label,\n",
       "#sk-container-id-3 div.sk-label label {\n",
       "  /* The background is the default theme color */\n",
       "  color: var(--sklearn-color-text-on-default-background);\n",
       "}\n",
       "\n",
       "/* On hover, darken the color of the background */\n",
       "#sk-container-id-3 div.sk-label:hover label.sk-toggleable__label {\n",
       "  color: var(--sklearn-color-text);\n",
       "  background-color: var(--sklearn-color-unfitted-level-2);\n",
       "}\n",
       "\n",
       "/* Label box, darken color on hover, fitted */\n",
       "#sk-container-id-3 div.sk-label.fitted:hover label.sk-toggleable__label.fitted {\n",
       "  color: var(--sklearn-color-text);\n",
       "  background-color: var(--sklearn-color-fitted-level-2);\n",
       "}\n",
       "\n",
       "/* Estimator label */\n",
       "\n",
       "#sk-container-id-3 div.sk-label label {\n",
       "  font-family: monospace;\n",
       "  font-weight: bold;\n",
       "  display: inline-block;\n",
       "  line-height: 1.2em;\n",
       "}\n",
       "\n",
       "#sk-container-id-3 div.sk-label-container {\n",
       "  text-align: center;\n",
       "}\n",
       "\n",
       "/* Estimator-specific */\n",
       "#sk-container-id-3 div.sk-estimator {\n",
       "  font-family: monospace;\n",
       "  border: 1px dotted var(--sklearn-color-border-box);\n",
       "  border-radius: 0.25em;\n",
       "  box-sizing: border-box;\n",
       "  margin-bottom: 0.5em;\n",
       "  /* unfitted */\n",
       "  background-color: var(--sklearn-color-unfitted-level-0);\n",
       "}\n",
       "\n",
       "#sk-container-id-3 div.sk-estimator.fitted {\n",
       "  /* fitted */\n",
       "  background-color: var(--sklearn-color-fitted-level-0);\n",
       "}\n",
       "\n",
       "/* on hover */\n",
       "#sk-container-id-3 div.sk-estimator:hover {\n",
       "  /* unfitted */\n",
       "  background-color: var(--sklearn-color-unfitted-level-2);\n",
       "}\n",
       "\n",
       "#sk-container-id-3 div.sk-estimator.fitted:hover {\n",
       "  /* fitted */\n",
       "  background-color: var(--sklearn-color-fitted-level-2);\n",
       "}\n",
       "\n",
       "/* Specification for estimator info (e.g. \"i\" and \"?\") */\n",
       "\n",
       "/* Common style for \"i\" and \"?\" */\n",
       "\n",
       ".sk-estimator-doc-link,\n",
       "a:link.sk-estimator-doc-link,\n",
       "a:visited.sk-estimator-doc-link {\n",
       "  float: right;\n",
       "  font-size: smaller;\n",
       "  line-height: 1em;\n",
       "  font-family: monospace;\n",
       "  background-color: var(--sklearn-color-background);\n",
       "  border-radius: 1em;\n",
       "  height: 1em;\n",
       "  width: 1em;\n",
       "  text-decoration: none !important;\n",
       "  margin-left: 1ex;\n",
       "  /* unfitted */\n",
       "  border: var(--sklearn-color-unfitted-level-1) 1pt solid;\n",
       "  color: var(--sklearn-color-unfitted-level-1);\n",
       "}\n",
       "\n",
       ".sk-estimator-doc-link.fitted,\n",
       "a:link.sk-estimator-doc-link.fitted,\n",
       "a:visited.sk-estimator-doc-link.fitted {\n",
       "  /* fitted */\n",
       "  border: var(--sklearn-color-fitted-level-1) 1pt solid;\n",
       "  color: var(--sklearn-color-fitted-level-1);\n",
       "}\n",
       "\n",
       "/* On hover */\n",
       "div.sk-estimator:hover .sk-estimator-doc-link:hover,\n",
       ".sk-estimator-doc-link:hover,\n",
       "div.sk-label-container:hover .sk-estimator-doc-link:hover,\n",
       ".sk-estimator-doc-link:hover {\n",
       "  /* unfitted */\n",
       "  background-color: var(--sklearn-color-unfitted-level-3);\n",
       "  color: var(--sklearn-color-background);\n",
       "  text-decoration: none;\n",
       "}\n",
       "\n",
       "div.sk-estimator.fitted:hover .sk-estimator-doc-link.fitted:hover,\n",
       ".sk-estimator-doc-link.fitted:hover,\n",
       "div.sk-label-container:hover .sk-estimator-doc-link.fitted:hover,\n",
       ".sk-estimator-doc-link.fitted:hover {\n",
       "  /* fitted */\n",
       "  background-color: var(--sklearn-color-fitted-level-3);\n",
       "  color: var(--sklearn-color-background);\n",
       "  text-decoration: none;\n",
       "}\n",
       "\n",
       "/* Span, style for the box shown on hovering the info icon */\n",
       ".sk-estimator-doc-link span {\n",
       "  display: none;\n",
       "  z-index: 9999;\n",
       "  position: relative;\n",
       "  font-weight: normal;\n",
       "  right: .2ex;\n",
       "  padding: .5ex;\n",
       "  margin: .5ex;\n",
       "  width: min-content;\n",
       "  min-width: 20ex;\n",
       "  max-width: 50ex;\n",
       "  color: var(--sklearn-color-text);\n",
       "  box-shadow: 2pt 2pt 4pt #999;\n",
       "  /* unfitted */\n",
       "  background: var(--sklearn-color-unfitted-level-0);\n",
       "  border: .5pt solid var(--sklearn-color-unfitted-level-3);\n",
       "}\n",
       "\n",
       ".sk-estimator-doc-link.fitted span {\n",
       "  /* fitted */\n",
       "  background: var(--sklearn-color-fitted-level-0);\n",
       "  border: var(--sklearn-color-fitted-level-3);\n",
       "}\n",
       "\n",
       ".sk-estimator-doc-link:hover span {\n",
       "  display: block;\n",
       "}\n",
       "\n",
       "/* \"?\"-specific style due to the `<a>` HTML tag */\n",
       "\n",
       "#sk-container-id-3 a.estimator_doc_link {\n",
       "  float: right;\n",
       "  font-size: 1rem;\n",
       "  line-height: 1em;\n",
       "  font-family: monospace;\n",
       "  background-color: var(--sklearn-color-background);\n",
       "  border-radius: 1rem;\n",
       "  height: 1rem;\n",
       "  width: 1rem;\n",
       "  text-decoration: none;\n",
       "  /* unfitted */\n",
       "  color: var(--sklearn-color-unfitted-level-1);\n",
       "  border: var(--sklearn-color-unfitted-level-1) 1pt solid;\n",
       "}\n",
       "\n",
       "#sk-container-id-3 a.estimator_doc_link.fitted {\n",
       "  /* fitted */\n",
       "  border: var(--sklearn-color-fitted-level-1) 1pt solid;\n",
       "  color: var(--sklearn-color-fitted-level-1);\n",
       "}\n",
       "\n",
       "/* On hover */\n",
       "#sk-container-id-3 a.estimator_doc_link:hover {\n",
       "  /* unfitted */\n",
       "  background-color: var(--sklearn-color-unfitted-level-3);\n",
       "  color: var(--sklearn-color-background);\n",
       "  text-decoration: none;\n",
       "}\n",
       "\n",
       "#sk-container-id-3 a.estimator_doc_link.fitted:hover {\n",
       "  /* fitted */\n",
       "  background-color: var(--sklearn-color-fitted-level-3);\n",
       "}\n",
       "</style><div id=\"sk-container-id-3\" class=\"sk-top-container\"><div class=\"sk-text-repr-fallback\"><pre>LinearRegression()</pre><b>In a Jupyter environment, please rerun this cell to show the HTML representation or trust the notebook. <br />On GitHub, the HTML representation is unable to render, please try loading this page with nbviewer.org.</b></div><div class=\"sk-container\" hidden><div class=\"sk-item\"><div class=\"sk-estimator fitted sk-toggleable\"><input class=\"sk-toggleable__control sk-hidden--visually\" id=\"sk-estimator-id-3\" type=\"checkbox\" checked><label for=\"sk-estimator-id-3\" class=\"sk-toggleable__label fitted sk-toggleable__label-arrow fitted\">&nbsp;&nbsp;LinearRegression<a class=\"sk-estimator-doc-link fitted\" rel=\"noreferrer\" target=\"_blank\" href=\"https://scikit-learn.org/1.5/modules/generated/sklearn.linear_model.LinearRegression.html\">?<span>Documentation for LinearRegression</span></a><span class=\"sk-estimator-doc-link fitted\">i<span>Fitted</span></span></label><div class=\"sk-toggleable__content fitted\"><pre>LinearRegression()</pre></div> </div></div></div></div>"
      ],
      "text/plain": [
       "LinearRegression()"
      ]
     },
     "execution_count": 43,
     "metadata": {},
     "output_type": "execute_result"
    }
   ],
   "source": [
    "lr.fit(X_train,y_train)"
   ]
  },
  {
   "cell_type": "code",
   "execution_count": 44,
   "id": "5d9fe110-9d9d-4105-9352-782a358cd13c",
   "metadata": {},
   "outputs": [],
   "source": [
    "y_pred = lr.predict(X_test)"
   ]
  },
  {
   "cell_type": "code",
   "execution_count": 45,
   "id": "d707746b-9b4f-4d77-9437-47fb9b1f80b3",
   "metadata": {},
   "outputs": [],
   "source": [
    "from sklearn.metrics import mean_absolute_error, mean_squared_error, r2_score"
   ]
  },
  {
   "cell_type": "code",
   "execution_count": 46,
   "id": "05ae3367-207e-4243-bf85-7dcbf34d3f05",
   "metadata": {},
   "outputs": [
    {
     "name": "stdout",
     "output_type": "stream",
     "text": [
      "MAE: 49.73068278227571\n",
      "MSE: 4152.186239958539\n",
      "R2 score: -0.20646320959075637\n"
     ]
    }
   ],
   "source": [
    "print(\"MAE:\", mean_absolute_error(y_pred,y_test))\n",
    "print('MSE:', mean_squared_error(y_pred, y_test))\n",
    "print('R2 score:', r2_score(y_pred,y_test))"
   ]
  },
  {
   "cell_type": "code",
   "execution_count": 48,
   "id": "eed145d6-4017-49f2-aa57-4511c4db1d67",
   "metadata": {},
   "outputs": [],
   "source": [
    "x = np.linspace(-5,5,10)\n",
    "y = np.linspace(-5,5,10)\n",
    "xGrid, yGrid = np.meshgrid(y,x)\n",
    "final = np.vstack((xGrid.ravel().reshape(1,100),yGrid.ravel().reshape(1,100))).T\n",
    "z_final = lr.predict(final).reshape(10,10)\n",
    "z = z_final\n"
   ]
  },
  {
   "cell_type": "code",
   "execution_count": 49,
   "id": "2da52f18-4198-4a06-8a5c-2eb08a5f14a8",
   "metadata": {},
   "outputs": [
    {
     "data": {
      "application/vnd.plotly.v1+json": {
       "config": {
        "plotlyServerURL": "https://plot.ly"
       },
       "data": [
        {
         "hovertemplate": "feature1=%{x}<br>feature2=%{y}<br>target=%{z}<extra></extra>",
         "legendgroup": "",
         "marker": {
          "color": "#636efa",
          "symbol": "circle"
         },
         "mode": "markers",
         "name": "",
         "scene": "scene",
         "showlegend": false,
         "type": "scatter3d",
         "x": [
          -1.274485731303676,
          0.6513189866114012,
          -0.3238656411200676,
          -0.7801583667189367,
          0.8107275076076823,
          -0.7173629975059127,
          -2.3906183451179164,
          -0.14168030336709894,
          -0.32179662861827735,
          -0.6493965207558864,
          0.12685816424823665,
          1.8239872335974163,
          -0.3933293932562831,
          -0.32981892239784755,
          0.8526764998974374,
          -0.7639308251862112,
          1.5348840500045446,
          -0.662854233839368,
          -0.5461132761692997,
          -0.06372582639424498,
          0.6310694977213681,
          1.2034666439024138,
          -1.4849827003073854,
          -1.065583017213554,
          0.14210487526760698,
          -0.19798536440166958,
          0.8830290230762057,
          -0.2712003332131632,
          -1.9891604216069723,
          0.05526966574602957,
          -0.6609397191885622,
          -0.2819344018470352,
          0.19484455164613343,
          0.9096366344178585,
          -0.15609054641732614,
          0.02774853598575179,
          0.19508185207865497,
          -1.2808948567609644,
          0.3718087061535325,
          1.4508322243164538,
          -1.43123008518727,
          0.20581618670551236,
          -0.5908294266068597,
          0.7648399370526029,
          0.10114108748241815,
          -0.05301741343030152,
          -0.11315254248172107,
          -0.2493794717038075,
          -1.3482688702031276,
          0.2523754940691204,
          -0.36218501899946,
          3.0347866872220517,
          0.5667947079319734,
          0.4835682153214534,
          -1.1445887125908347,
          2.100317217118081,
          -0.667990792452194,
          -0.6868155744203469,
          -0.34822201381957235,
          -0.22067070304773959,
          0.9569030259353457,
          0.16403873022676094,
          0.8403447535401081,
          0.7375502197225122,
          -2.1676831212254424,
          -0.6056479580506823,
          1.8781282473781444,
          0.28934465407495713,
          -0.2720260814032744,
          -1.3691374768038815,
          0.1895399724364921,
          -1.3385672280198657,
          0.10519567695683409,
          0.9043250507389343,
          -2.5157438350850656,
          -0.20409883582247546,
          0.5810126797253878,
          0.07770394710726532,
          -1.0011596165533863,
          -1.3862922381649785,
          -0.752549718595784,
          -0.41395041643157304,
          0.4790358148649697,
          -0.4472704121770206,
          -0.13851029938447834,
          0.24253834201367838,
          0.8053207865023992,
          -0.03986908732689859,
          -0.2502792440912182,
          -0.03563958405339583,
          0.27064162120814755,
          1.7147115199457685,
          0.1482682948461758,
          1.071557666601268,
          0.5593904770428378,
          -0.8535703621100718,
          -1.0924537531790908,
          -0.8461147610331691,
          -1.0693928041502467,
          -0.3682242236468344
         ],
         "y": [
          -2.3930491096017428,
          -1.0767134320038796,
          0.2471390998919602,
          0.17277263439801102,
          -1.255968031521497,
          0.13010453991183896,
          0.3841313232378402,
          1.8901862708444794,
          0.8286413113167214,
          -1.9281717545345747,
          0.11329880056465834,
          0.32418803496438126,
          -0.868896214006827,
          1.2652005199769762,
          -0.7157097230142747,
          0.2094091361754571,
          -0.032878918430854484,
          0.5847435406571289,
          1.392291311197453,
          1.4378908882870185,
          0.2964075945198076,
          -0.07306615290903352,
          -1.5692893130417558,
          -0.6692361987635723,
          0.1823061346164062,
          0.8889894092153303,
          0.539240878030504,
          -1.1300984091703088,
          0.5427135850552761,
          1.2836945846688428,
          1.0864938434930873,
          0.004002137866108592,
          -1.399703186018996,
          -0.2035900475909041,
          0.007698878363315305,
          -0.7934871863048978,
          -0.226799464606556,
          -1.868875371397136,
          0.4791757687449805,
          -1.3267197046971186,
          0.15782675083188275,
          1.1272685562582292,
          -1.6905448736130637,
          1.0102991618651278,
          -0.9639187509633402,
          -2.004140084331977,
          -1.0332282391384833,
          -0.8330839754182848,
          -2.0461430066488613,
          -0.6269165650970049,
          -0.2456813716831204,
          2.1632566930643224,
          1.080428851940174,
          0.0595428966134265,
          0.3939978648820627,
          -0.3614220445521553,
          0.060254418663847654,
          -0.3615764003436403,
          -2.7858457478809444,
          -0.582541339441394,
          -0.5335982734926974,
          0.17848885323434605,
          -0.9523594108505643,
          1.012467770313244,
          -0.4427297214067952,
          -0.3295013544625451,
          1.1258228088021796,
          -1.4813874946167258,
          0.5299709429942269,
          1.8438777448936106,
          0.4015674685552618,
          1.6433295536263444,
          -0.82888091975733,
          -0.6649985085082991,
          -0.5079376060437081,
          0.4089594490000415,
          -0.33770106228315566,
          -1.3456114849250131,
          -1.1545186449192957,
          0.18793952995697044,
          -0.8642708938379905,
          -0.19284841082557577,
          0.4190625172478453,
          0.8665111329142724,
          0.5408019404437621,
          -1.5120332823638152,
          0.37826300385313777,
          -1.0704092887514511,
          0.4681876653867563,
          1.0450845203476091,
          -0.3358997659484303,
          0.5546505594333196,
          -2.0825912546522862,
          -1.5342173571348288,
          0.308852211657613,
          -0.5883976552244623,
          -0.6223493881833645,
          -0.7016121876218642,
          0.20424796998690128,
          -0.6209456889775025
         ],
         "z": [
          -103.558661194736,
          -54.045609115374106,
          -79.07913824416201,
          -80.01733224643178,
          -44.066018118169815,
          -32.785147603998034,
          -9.912573945633739,
          46.17928991869823,
          95.17680699555861,
          -162.12694351163168,
          -135.0280585735941,
          -3.8867309495646936,
          -82.36016890513392,
          2.2781896465670357,
          3.3488112203447145,
          -40.29606905401384,
          22.32458338269281,
          136.700886736318,
          98.44824423773994,
          37.288181301832175,
          102.90851289487561,
          -27.531169192570392,
          -30.75147863392374,
          -88.714880712103,
          -11.510599880162134,
          75.65875300156078,
          112.69333247574731,
          -144.131119643052,
          -17.599058824359727,
          117.51841488216024,
          103.04668263088246,
          -63.657463035420925,
          -78.53210124511463,
          2.3720678989114266,
          -133.0163944742717,
          -6.0296606455478,
          8.204671484275904,
          -131.2661211799617,
          53.40854532099469,
          -26.375904784886263,
          -15.076510143405823,
          13.385841772442582,
          -183.7475344914577,
          21.66727400336964,
          -59.99045623612867,
          -221.02228833209853,
          -12.351608099569063,
          6.37905225251253,
          -187.4482099496017,
          -57.22635017107898,
          19.285200271690613,
          232.47061816655872,
          101.25869705038366,
          141.57883147609584,
          -11.931338073102076,
          9.3082183137353,
          -85.34789515624152,
          35.53019495244867,
          -106.87215869167947,
          -109.18438953107031,
          59.01707280891229,
          4.819828605138365,
          -2.8179877016831014,
          113.2708039147725,
          -131.4818492855224,
          -11.823029896166055,
          194.0321912134454,
          -80.28390050272735,
          13.586525670774176,
          67.66327891969956,
          51.399746434761944,
          23.301485159511472,
          -55.65996390452731,
          -33.676442578199385,
          -34.080591555759646,
          -22.165716252804135,
          -18.082040922886925,
          -12.980522265560438,
          -86.34685616149152,
          -127.89969214247009,
          -59.25737081778954,
          59.23789283050127,
          15.747663253290263,
          -32.0229668478723,
          -15.149086104635206,
          -36.406268650602,
          71.16355977392847,
          -116.22094178988536,
          20.562649042117595,
          1.3972310684765077,
          -62.367014225178494,
          23.001333512872435,
          -110.05374905847354,
          -149.1714689106439,
          36.18724162299277,
          -93.85003642468048,
          -19.94661570920661,
          -77.4008640721039,
          36.987888457550355,
          14.912690727898223
         ]
        },
        {
         "type": "surface",
         "x": [
          -5,
          -3.888888888888889,
          -2.7777777777777777,
          -1.6666666666666665,
          -0.5555555555555554,
          0.5555555555555554,
          1.666666666666667,
          2.7777777777777786,
          3.8888888888888893,
          5
         ],
         "y": [
          -5,
          -3.888888888888889,
          -2.7777777777777777,
          -1.6666666666666665,
          -0.5555555555555554,
          0.5555555555555554,
          1.666666666666667,
          2.7777777777777786,
          3.8888888888888893,
          5
         ],
         "z": [
          [
           -417.14606500174466,
           -387.1201486951694,
           -357.0942323885941,
           -327.0683160820188,
           -297.0423997754435,
           -267.0164834688682,
           -236.99056716229288,
           -206.96465085571757,
           -176.9387345491423,
           -146.912818242567
          ],
          [
           -355.5149940781621,
           -325.4890777715868,
           -295.46316146501147,
           -265.4372451584362,
           -235.41132885186087,
           -205.3854125452856,
           -175.35949623871028,
           -145.33357993213497,
           -115.30766362555971,
           -85.28174731898443
          ],
          [
           -293.88392315457946,
           -263.85800684800415,
           -233.83209054142884,
           -203.80617423485356,
           -173.78025792827827,
           -143.754341621703,
           -113.72842531512768,
           -83.7025090085524,
           -53.6765927019771,
           -23.650676395401817
          ],
          [
           -232.25285223099684,
           -202.22693592442155,
           -172.20101961784624,
           -142.17510331127096,
           -112.14918700469568,
           -82.1232706981204,
           -52.09735439154509,
           -22.071438084969785,
           7.9544782216055,
           37.98039452818078
          ],
          [
           -170.62178130741424,
           -140.59586500083896,
           -110.56994869426364,
           -80.54403238768836,
           -50.51811608111307,
           -20.49219977453779,
           9.533716532037513,
           39.55963283861282,
           69.58554914518811,
           99.6114654517634
          ],
          [
           -108.99071038383167,
           -78.96479407725639,
           -48.93887777068108,
           -18.912961464105788,
           11.112954842469502,
           41.13887114904478,
           71.16478745562009,
           101.1907037621954,
           131.21662006877068,
           161.24253637534596
          ],
          [
           -47.35963946024905,
           -17.333723153673752,
           12.692193152901549,
           42.718109459476835,
           72.74402576605212,
           102.7699420726274,
           132.7958583792027,
           162.82177468577802,
           192.8476909923533,
           222.8736072989286
          ],
          [
           14.271431463333577,
           44.297347769908875,
           74.32326407648418,
           104.34918038305946,
           134.37509668963477,
           164.40101299621006,
           194.42692930278534,
           224.45284560936065,
           254.47876191593596,
           284.5046782225112
          ],
          [
           75.90250238691615,
           105.92841869349147,
           135.95433500006675,
           165.98025130664206,
           196.00616761321734,
           226.03208391979263,
           256.0580002263679,
           286.0839165329432,
           316.1098328395185,
           346.13574914609376
          ],
          [
           137.53357331049872,
           167.55948961707404,
           197.58540592364935,
           227.61132223022463,
           257.6372385367999,
           287.6631548433752,
           317.68907114995045,
           347.71498745652576,
           377.7409037631011,
           407.7668200696763
          ]
         ]
        }
       ],
       "layout": {
        "autosize": true,
        "legend": {
         "tracegroupgap": 0
        },
        "margin": {
         "t": 60
        },
        "scene": {
         "aspectmode": "auto",
         "aspectratio": {
          "x": 1,
          "y": 1,
          "z": 1
         },
         "camera": {
          "center": {
           "x": 0,
           "y": 0,
           "z": 0
          },
          "eye": {
           "x": 1.11439215975634,
           "y": 0.7657084461053919,
           "z": 1.0591841758564857
          },
          "projection": {
           "type": "perspective"
          },
          "up": {
           "x": 0,
           "y": 0,
           "z": 1
          }
         },
         "domain": {
          "x": [
           0,
           1
          ],
          "y": [
           0,
           1
          ]
         },
         "xaxis": {
          "title": {
           "text": "feature1"
          },
          "type": "linear"
         },
         "yaxis": {
          "title": {
           "text": "feature2"
          },
          "type": "linear"
         },
         "zaxis": {
          "title": {
           "text": "target"
          },
          "type": "linear"
         }
        },
        "template": {
         "data": {
          "bar": [
           {
            "error_x": {
             "color": "#2a3f5f"
            },
            "error_y": {
             "color": "#2a3f5f"
            },
            "marker": {
             "line": {
              "color": "#E5ECF6",
              "width": 0.5
             },
             "pattern": {
              "fillmode": "overlay",
              "size": 10,
              "solidity": 0.2
             }
            },
            "type": "bar"
           }
          ],
          "barpolar": [
           {
            "marker": {
             "line": {
              "color": "#E5ECF6",
              "width": 0.5
             },
             "pattern": {
              "fillmode": "overlay",
              "size": 10,
              "solidity": 0.2
             }
            },
            "type": "barpolar"
           }
          ],
          "carpet": [
           {
            "aaxis": {
             "endlinecolor": "#2a3f5f",
             "gridcolor": "white",
             "linecolor": "white",
             "minorgridcolor": "white",
             "startlinecolor": "#2a3f5f"
            },
            "baxis": {
             "endlinecolor": "#2a3f5f",
             "gridcolor": "white",
             "linecolor": "white",
             "minorgridcolor": "white",
             "startlinecolor": "#2a3f5f"
            },
            "type": "carpet"
           }
          ],
          "choropleth": [
           {
            "colorbar": {
             "outlinewidth": 0,
             "ticks": ""
            },
            "type": "choropleth"
           }
          ],
          "contour": [
           {
            "colorbar": {
             "outlinewidth": 0,
             "ticks": ""
            },
            "colorscale": [
             [
              0,
              "#0d0887"
             ],
             [
              0.1111111111111111,
              "#46039f"
             ],
             [
              0.2222222222222222,
              "#7201a8"
             ],
             [
              0.3333333333333333,
              "#9c179e"
             ],
             [
              0.4444444444444444,
              "#bd3786"
             ],
             [
              0.5555555555555556,
              "#d8576b"
             ],
             [
              0.6666666666666666,
              "#ed7953"
             ],
             [
              0.7777777777777778,
              "#fb9f3a"
             ],
             [
              0.8888888888888888,
              "#fdca26"
             ],
             [
              1,
              "#f0f921"
             ]
            ],
            "type": "contour"
           }
          ],
          "contourcarpet": [
           {
            "colorbar": {
             "outlinewidth": 0,
             "ticks": ""
            },
            "type": "contourcarpet"
           }
          ],
          "heatmap": [
           {
            "colorbar": {
             "outlinewidth": 0,
             "ticks": ""
            },
            "colorscale": [
             [
              0,
              "#0d0887"
             ],
             [
              0.1111111111111111,
              "#46039f"
             ],
             [
              0.2222222222222222,
              "#7201a8"
             ],
             [
              0.3333333333333333,
              "#9c179e"
             ],
             [
              0.4444444444444444,
              "#bd3786"
             ],
             [
              0.5555555555555556,
              "#d8576b"
             ],
             [
              0.6666666666666666,
              "#ed7953"
             ],
             [
              0.7777777777777778,
              "#fb9f3a"
             ],
             [
              0.8888888888888888,
              "#fdca26"
             ],
             [
              1,
              "#f0f921"
             ]
            ],
            "type": "heatmap"
           }
          ],
          "heatmapgl": [
           {
            "colorbar": {
             "outlinewidth": 0,
             "ticks": ""
            },
            "colorscale": [
             [
              0,
              "#0d0887"
             ],
             [
              0.1111111111111111,
              "#46039f"
             ],
             [
              0.2222222222222222,
              "#7201a8"
             ],
             [
              0.3333333333333333,
              "#9c179e"
             ],
             [
              0.4444444444444444,
              "#bd3786"
             ],
             [
              0.5555555555555556,
              "#d8576b"
             ],
             [
              0.6666666666666666,
              "#ed7953"
             ],
             [
              0.7777777777777778,
              "#fb9f3a"
             ],
             [
              0.8888888888888888,
              "#fdca26"
             ],
             [
              1,
              "#f0f921"
             ]
            ],
            "type": "heatmapgl"
           }
          ],
          "histogram": [
           {
            "marker": {
             "pattern": {
              "fillmode": "overlay",
              "size": 10,
              "solidity": 0.2
             }
            },
            "type": "histogram"
           }
          ],
          "histogram2d": [
           {
            "colorbar": {
             "outlinewidth": 0,
             "ticks": ""
            },
            "colorscale": [
             [
              0,
              "#0d0887"
             ],
             [
              0.1111111111111111,
              "#46039f"
             ],
             [
              0.2222222222222222,
              "#7201a8"
             ],
             [
              0.3333333333333333,
              "#9c179e"
             ],
             [
              0.4444444444444444,
              "#bd3786"
             ],
             [
              0.5555555555555556,
              "#d8576b"
             ],
             [
              0.6666666666666666,
              "#ed7953"
             ],
             [
              0.7777777777777778,
              "#fb9f3a"
             ],
             [
              0.8888888888888888,
              "#fdca26"
             ],
             [
              1,
              "#f0f921"
             ]
            ],
            "type": "histogram2d"
           }
          ],
          "histogram2dcontour": [
           {
            "colorbar": {
             "outlinewidth": 0,
             "ticks": ""
            },
            "colorscale": [
             [
              0,
              "#0d0887"
             ],
             [
              0.1111111111111111,
              "#46039f"
             ],
             [
              0.2222222222222222,
              "#7201a8"
             ],
             [
              0.3333333333333333,
              "#9c179e"
             ],
             [
              0.4444444444444444,
              "#bd3786"
             ],
             [
              0.5555555555555556,
              "#d8576b"
             ],
             [
              0.6666666666666666,
              "#ed7953"
             ],
             [
              0.7777777777777778,
              "#fb9f3a"
             ],
             [
              0.8888888888888888,
              "#fdca26"
             ],
             [
              1,
              "#f0f921"
             ]
            ],
            "type": "histogram2dcontour"
           }
          ],
          "mesh3d": [
           {
            "colorbar": {
             "outlinewidth": 0,
             "ticks": ""
            },
            "type": "mesh3d"
           }
          ],
          "parcoords": [
           {
            "line": {
             "colorbar": {
              "outlinewidth": 0,
              "ticks": ""
             }
            },
            "type": "parcoords"
           }
          ],
          "pie": [
           {
            "automargin": true,
            "type": "pie"
           }
          ],
          "scatter": [
           {
            "fillpattern": {
             "fillmode": "overlay",
             "size": 10,
             "solidity": 0.2
            },
            "type": "scatter"
           }
          ],
          "scatter3d": [
           {
            "line": {
             "colorbar": {
              "outlinewidth": 0,
              "ticks": ""
             }
            },
            "marker": {
             "colorbar": {
              "outlinewidth": 0,
              "ticks": ""
             }
            },
            "type": "scatter3d"
           }
          ],
          "scattercarpet": [
           {
            "marker": {
             "colorbar": {
              "outlinewidth": 0,
              "ticks": ""
             }
            },
            "type": "scattercarpet"
           }
          ],
          "scattergeo": [
           {
            "marker": {
             "colorbar": {
              "outlinewidth": 0,
              "ticks": ""
             }
            },
            "type": "scattergeo"
           }
          ],
          "scattergl": [
           {
            "marker": {
             "colorbar": {
              "outlinewidth": 0,
              "ticks": ""
             }
            },
            "type": "scattergl"
           }
          ],
          "scattermapbox": [
           {
            "marker": {
             "colorbar": {
              "outlinewidth": 0,
              "ticks": ""
             }
            },
            "type": "scattermapbox"
           }
          ],
          "scatterpolar": [
           {
            "marker": {
             "colorbar": {
              "outlinewidth": 0,
              "ticks": ""
             }
            },
            "type": "scatterpolar"
           }
          ],
          "scatterpolargl": [
           {
            "marker": {
             "colorbar": {
              "outlinewidth": 0,
              "ticks": ""
             }
            },
            "type": "scatterpolargl"
           }
          ],
          "scatterternary": [
           {
            "marker": {
             "colorbar": {
              "outlinewidth": 0,
              "ticks": ""
             }
            },
            "type": "scatterternary"
           }
          ],
          "surface": [
           {
            "colorbar": {
             "outlinewidth": 0,
             "ticks": ""
            },
            "colorscale": [
             [
              0,
              "#0d0887"
             ],
             [
              0.1111111111111111,
              "#46039f"
             ],
             [
              0.2222222222222222,
              "#7201a8"
             ],
             [
              0.3333333333333333,
              "#9c179e"
             ],
             [
              0.4444444444444444,
              "#bd3786"
             ],
             [
              0.5555555555555556,
              "#d8576b"
             ],
             [
              0.6666666666666666,
              "#ed7953"
             ],
             [
              0.7777777777777778,
              "#fb9f3a"
             ],
             [
              0.8888888888888888,
              "#fdca26"
             ],
             [
              1,
              "#f0f921"
             ]
            ],
            "type": "surface"
           }
          ],
          "table": [
           {
            "cells": {
             "fill": {
              "color": "#EBF0F8"
             },
             "line": {
              "color": "white"
             }
            },
            "header": {
             "fill": {
              "color": "#C8D4E3"
             },
             "line": {
              "color": "white"
             }
            },
            "type": "table"
           }
          ]
         },
         "layout": {
          "annotationdefaults": {
           "arrowcolor": "#2a3f5f",
           "arrowhead": 0,
           "arrowwidth": 1
          },
          "autotypenumbers": "strict",
          "coloraxis": {
           "colorbar": {
            "outlinewidth": 0,
            "ticks": ""
           }
          },
          "colorscale": {
           "diverging": [
            [
             0,
             "#8e0152"
            ],
            [
             0.1,
             "#c51b7d"
            ],
            [
             0.2,
             "#de77ae"
            ],
            [
             0.3,
             "#f1b6da"
            ],
            [
             0.4,
             "#fde0ef"
            ],
            [
             0.5,
             "#f7f7f7"
            ],
            [
             0.6,
             "#e6f5d0"
            ],
            [
             0.7,
             "#b8e186"
            ],
            [
             0.8,
             "#7fbc41"
            ],
            [
             0.9,
             "#4d9221"
            ],
            [
             1,
             "#276419"
            ]
           ],
           "sequential": [
            [
             0,
             "#0d0887"
            ],
            [
             0.1111111111111111,
             "#46039f"
            ],
            [
             0.2222222222222222,
             "#7201a8"
            ],
            [
             0.3333333333333333,
             "#9c179e"
            ],
            [
             0.4444444444444444,
             "#bd3786"
            ],
            [
             0.5555555555555556,
             "#d8576b"
            ],
            [
             0.6666666666666666,
             "#ed7953"
            ],
            [
             0.7777777777777778,
             "#fb9f3a"
            ],
            [
             0.8888888888888888,
             "#fdca26"
            ],
            [
             1,
             "#f0f921"
            ]
           ],
           "sequentialminus": [
            [
             0,
             "#0d0887"
            ],
            [
             0.1111111111111111,
             "#46039f"
            ],
            [
             0.2222222222222222,
             "#7201a8"
            ],
            [
             0.3333333333333333,
             "#9c179e"
            ],
            [
             0.4444444444444444,
             "#bd3786"
            ],
            [
             0.5555555555555556,
             "#d8576b"
            ],
            [
             0.6666666666666666,
             "#ed7953"
            ],
            [
             0.7777777777777778,
             "#fb9f3a"
            ],
            [
             0.8888888888888888,
             "#fdca26"
            ],
            [
             1,
             "#f0f921"
            ]
           ]
          },
          "colorway": [
           "#636efa",
           "#EF553B",
           "#00cc96",
           "#ab63fa",
           "#FFA15A",
           "#19d3f3",
           "#FF6692",
           "#B6E880",
           "#FF97FF",
           "#FECB52"
          ],
          "font": {
           "color": "#2a3f5f"
          },
          "geo": {
           "bgcolor": "white",
           "lakecolor": "white",
           "landcolor": "#E5ECF6",
           "showlakes": true,
           "showland": true,
           "subunitcolor": "white"
          },
          "hoverlabel": {
           "align": "left"
          },
          "hovermode": "closest",
          "mapbox": {
           "style": "light"
          },
          "paper_bgcolor": "white",
          "plot_bgcolor": "#E5ECF6",
          "polar": {
           "angularaxis": {
            "gridcolor": "white",
            "linecolor": "white",
            "ticks": ""
           },
           "bgcolor": "#E5ECF6",
           "radialaxis": {
            "gridcolor": "white",
            "linecolor": "white",
            "ticks": ""
           }
          },
          "scene": {
           "xaxis": {
            "backgroundcolor": "#E5ECF6",
            "gridcolor": "white",
            "gridwidth": 2,
            "linecolor": "white",
            "showbackground": true,
            "ticks": "",
            "zerolinecolor": "white"
           },
           "yaxis": {
            "backgroundcolor": "#E5ECF6",
            "gridcolor": "white",
            "gridwidth": 2,
            "linecolor": "white",
            "showbackground": true,
            "ticks": "",
            "zerolinecolor": "white"
           },
           "zaxis": {
            "backgroundcolor": "#E5ECF6",
            "gridcolor": "white",
            "gridwidth": 2,
            "linecolor": "white",
            "showbackground": true,
            "ticks": "",
            "zerolinecolor": "white"
           }
          },
          "shapedefaults": {
           "line": {
            "color": "#2a3f5f"
           }
          },
          "ternary": {
           "aaxis": {
            "gridcolor": "white",
            "linecolor": "white",
            "ticks": ""
           },
           "baxis": {
            "gridcolor": "white",
            "linecolor": "white",
            "ticks": ""
           },
           "bgcolor": "#E5ECF6",
           "caxis": {
            "gridcolor": "white",
            "linecolor": "white",
            "ticks": ""
           }
          },
          "title": {
           "x": 0.05
          },
          "xaxis": {
           "automargin": true,
           "gridcolor": "white",
           "linecolor": "white",
           "ticks": "",
           "title": {
            "standoff": 15
           },
           "zerolinecolor": "white",
           "zerolinewidth": 2
          },
          "yaxis": {
           "automargin": true,
           "gridcolor": "white",
           "linecolor": "white",
           "ticks": "",
           "title": {
            "standoff": 15
           },
           "zerolinecolor": "white",
           "zerolinewidth": 2
          }
         }
        }
       }
      },
      "image/png": "[encoded data removed]",
      "text/html": [
       "<div>                            <div id=\"42f341ba-8657-490c-82eb-8cfc2aa2c73e\" class=\"plotly-graph-div\" style=\"height:525px; width:100%;\"></div>            <script type=\"text/javascript\">                require([\"plotly\"], function(Plotly) {                    window.PLOTLYENV=window.PLOTLYENV || {};                                    if (document.getElementById(\"42f341ba-8657-490c-82eb-8cfc2aa2c73e\")) {                    Plotly.newPlot(                        \"42f341ba-8657-490c-82eb-8cfc2aa2c73e\",                        [{\"hovertemplate\":\"feature1=%{x}\\u003cbr\\u003efeature2=%{y}\\u003cbr\\u003etarget=%{z}\\u003cextra\\u003e\\u003c\\u002fextra\\u003e\",\"legendgroup\":\"\",\"marker\":{\"color\":\"#636efa\",\"symbol\":\"circle\"},\"mode\":\"markers\",\"name\":\"\",\"scene\":\"scene\",\"showlegend\":false,\"x\":[-1.274485731303676,0.6513189866114012,-0.3238656411200676,-0.7801583667189367,0.8107275076076823,-0.7173629975059127,-2.3906183451179164,-0.14168030336709894,-0.32179662861827735,-0.6493965207558864,0.12685816424823665,1.8239872335974163,-0.3933293932562831,-0.32981892239784755,0.8526764998974374,-0.7639308251862112,1.5348840500045446,-0.662854233839368,-0.5461132761692997,-0.06372582639424498,0.6310694977213681,1.2034666439024138,-1.4849827003073854,-1.065583017213554,0.14210487526760698,-0.19798536440166958,0.8830290230762057,-0.2712003332131632,-1.9891604216069723,0.05526966574602957,-0.6609397191885622,-0.2819344018470352,0.19484455164613343,0.9096366344178585,-0.15609054641732614,0.02774853598575179,0.19508185207865497,-1.2808948567609644,0.3718087061535325,1.4508322243164538,-1.43123008518727,0.20581618670551236,-0.5908294266068597,0.7648399370526029,0.10114108748241815,-0.05301741343030152,-0.11315254248172107,-0.2493794717038075,-1.3482688702031276,0.2523754940691204,-0.36218501899946,3.0347866872220517,0.5667947079319734,0.4835682153214534,-1.1445887125908347,2.100317217118081,-0.667990792452194,-0.6868155744203469,-0.34822201381957235,-0.22067070304773959,0.9569030259353457,0.16403873022676094,0.8403447535401081,0.7375502197225122,-2.1676831212254424,-0.6056479580506823,1.8781282473781444,0.28934465407495713,-0.2720260814032744,-1.3691374768038815,0.1895399724364921,-1.3385672280198657,0.10519567695683409,0.9043250507389343,-2.5157438350850656,-0.20409883582247546,0.5810126797253878,0.07770394710726532,-1.0011596165533863,-1.3862922381649785,-0.752549718595784,-0.41395041643157304,0.4790358148649697,-0.4472704121770206,-0.13851029938447834,0.24253834201367838,0.8053207865023992,-0.03986908732689859,-0.2502792440912182,-0.03563958405339583,0.27064162120814755,1.7147115199457685,0.1482682948461758,1.071557666601268,0.5593904770428378,-0.8535703621100718,-1.0924537531790908,-0.8461147610331691,-1.0693928041502467,-0.3682242236468344],\"y\":[-2.3930491096017428,-1.0767134320038796,0.2471390998919602,0.17277263439801102,-1.255968031521497,0.13010453991183896,0.3841313232378402,1.8901862708444794,0.8286413113167214,-1.9281717545345747,0.11329880056465834,0.32418803496438126,-0.868896214006827,1.2652005199769762,-0.7157097230142747,0.2094091361754571,-0.032878918430854484,0.5847435406571289,1.392291311197453,1.4378908882870185,0.2964075945198076,-0.07306615290903352,-1.5692893130417558,-0.6692361987635723,0.1823061346164062,0.8889894092153303,0.539240878030504,-1.1300984091703088,0.5427135850552761,1.2836945846688428,1.0864938434930873,0.004002137866108592,-1.399703186018996,-0.2035900475909041,0.007698878363315305,-0.7934871863048978,-0.226799464606556,-1.868875371397136,0.4791757687449805,-1.3267197046971186,0.15782675083188275,1.1272685562582292,-1.6905448736130637,1.0102991618651278,-0.9639187509633402,-2.004140084331977,-1.0332282391384833,-0.8330839754182848,-2.0461430066488613,-0.6269165650970049,-0.2456813716831204,2.1632566930643224,1.080428851940174,0.0595428966134265,0.3939978648820627,-0.3614220445521553,0.060254418663847654,-0.3615764003436403,-2.7858457478809444,-0.582541339441394,-0.5335982734926974,0.17848885323434605,-0.9523594108505643,1.012467770313244,-0.4427297214067952,-0.3295013544625451,1.1258228088021796,-1.4813874946167258,0.5299709429942269,1.8438777448936106,0.4015674685552618,1.6433295536263444,-0.82888091975733,-0.6649985085082991,-0.5079376060437081,0.4089594490000415,-0.33770106228315566,-1.3456114849250131,-1.1545186449192957,0.18793952995697044,-0.8642708938379905,-0.19284841082557577,0.4190625172478453,0.8665111329142724,0.5408019404437621,-1.5120332823638152,0.37826300385313777,-1.0704092887514511,0.4681876653867563,1.0450845203476091,-0.3358997659484303,0.5546505594333196,-2.0825912546522862,-1.5342173571348288,0.308852211657613,-0.5883976552244623,-0.6223493881833645,-0.7016121876218642,0.20424796998690128,-0.6209456889775025],\"z\":[-103.558661194736,-54.045609115374106,-79.07913824416201,-80.01733224643178,-44.066018118169815,-32.785147603998034,-9.912573945633739,46.17928991869823,95.17680699555861,-162.12694351163168,-135.0280585735941,-3.8867309495646936,-82.36016890513392,2.2781896465670357,3.3488112203447145,-40.29606905401384,22.32458338269281,136.700886736318,98.44824423773994,37.288181301832175,102.90851289487561,-27.531169192570392,-30.75147863392374,-88.714880712103,-11.510599880162134,75.65875300156078,112.69333247574731,-144.131119643052,-17.599058824359727,117.51841488216024,103.04668263088246,-63.657463035420925,-78.53210124511463,2.3720678989114266,-133.0163944742717,-6.0296606455478,8.204671484275904,-131.2661211799617,53.40854532099469,-26.375904784886263,-15.076510143405823,13.385841772442582,-183.7475344914577,21.66727400336964,-59.99045623612867,-221.02228833209853,-12.351608099569063,6.37905225251253,-187.4482099496017,-57.22635017107898,19.285200271690613,232.47061816655872,101.25869705038366,141.57883147609584,-11.931338073102076,9.3082183137353,-85.34789515624152,35.53019495244867,-106.87215869167947,-109.18438953107031,59.01707280891229,4.819828605138365,-2.8179877016831014,113.2708039147725,-131.4818492855224,-11.823029896166055,194.0321912134454,-80.28390050272735,13.586525670774176,67.66327891969956,51.399746434761944,23.301485159511472,-55.65996390452731,-33.676442578199385,-34.080591555759646,-22.165716252804135,-18.082040922886925,-12.980522265560438,-86.34685616149152,-127.89969214247009,-59.25737081778954,59.23789283050127,15.747663253290263,-32.0229668478723,-15.149086104635206,-36.406268650602,71.16355977392847,-116.22094178988536,20.562649042117595,1.3972310684765077,-62.367014225178494,23.001333512872435,-110.05374905847354,-149.1714689106439,36.18724162299277,-93.85003642468048,-19.94661570920661,-77.4008640721039,36.987888457550355,14.912690727898223],\"type\":\"scatter3d\"},{\"x\":[-5.0,-3.888888888888889,-2.7777777777777777,-1.6666666666666665,-0.5555555555555554,0.5555555555555554,1.666666666666667,2.7777777777777786,3.8888888888888893,5.0],\"y\":[-5.0,-3.888888888888889,-2.7777777777777777,-1.6666666666666665,-0.5555555555555554,0.5555555555555554,1.666666666666667,2.7777777777777786,3.8888888888888893,5.0],\"z\":[[-417.14606500174466,-387.1201486951694,-357.0942323885941,-327.0683160820188,-297.0423997754435,-267.0164834688682,-236.99056716229288,-206.96465085571757,-176.9387345491423,-146.912818242567],[-355.5149940781621,-325.4890777715868,-295.46316146501147,-265.4372451584362,-235.41132885186087,-205.3854125452856,-175.35949623871028,-145.33357993213497,-115.30766362555971,-85.28174731898443],[-293.88392315457946,-263.85800684800415,-233.83209054142884,-203.80617423485356,-173.78025792827827,-143.754341621703,-113.72842531512768,-83.7025090085524,-53.6765927019771,-23.650676395401817],[-232.25285223099684,-202.22693592442155,-172.20101961784624,-142.17510331127096,-112.14918700469568,-82.1232706981204,-52.09735439154509,-22.071438084969785,7.9544782216055,37.98039452818078],[-170.62178130741424,-140.59586500083896,-110.56994869426364,-80.54403238768836,-50.51811608111307,-20.49219977453779,9.533716532037513,39.55963283861282,69.58554914518811,99.6114654517634],[-108.99071038383167,-78.96479407725639,-48.93887777068108,-18.912961464105788,11.112954842469502,41.13887114904478,71.16478745562009,101.1907037621954,131.21662006877068,161.24253637534596],[-47.35963946024905,-17.333723153673752,12.692193152901549,42.718109459476835,72.74402576605212,102.7699420726274,132.7958583792027,162.82177468577802,192.8476909923533,222.8736072989286],[14.271431463333577,44.297347769908875,74.32326407648418,104.34918038305946,134.37509668963477,164.40101299621006,194.42692930278534,224.45284560936065,254.47876191593596,284.5046782225112],[75.90250238691615,105.92841869349147,135.95433500006675,165.98025130664206,196.00616761321734,226.03208391979263,256.0580002263679,286.0839165329432,316.1098328395185,346.13574914609376],[137.53357331049872,167.55948961707404,197.58540592364935,227.61132223022463,257.6372385367999,287.6631548433752,317.68907114995045,347.71498745652576,377.7409037631011,407.7668200696763]],\"type\":\"surface\"}],                        {\"template\":{\"data\":{\"histogram2dcontour\":[{\"type\":\"histogram2dcontour\",\"colorbar\":{\"outlinewidth\":0,\"ticks\":\"\"},\"colorscale\":[[0.0,\"#0d0887\"],[0.1111111111111111,\"#46039f\"],[0.2222222222222222,\"#7201a8\"],[0.3333333333333333,\"#9c179e\"],[0.4444444444444444,\"#bd3786\"],[0.5555555555555556,\"#d8576b\"],[0.6666666666666666,\"#ed7953\"],[0.7777777777777778,\"#fb9f3a\"],[0.8888888888888888,\"#fdca26\"],[1.0,\"#f0f921\"]]}],\"choropleth\":[{\"type\":\"choropleth\",\"colorbar\":{\"outlinewidth\":0,\"ticks\":\"\"}}],\"histogram2d\":[{\"type\":\"histogram2d\",\"colorbar\":{\"outlinewidth\":0,\"ticks\":\"\"},\"colorscale\":[[0.0,\"#0d0887\"],[0.1111111111111111,\"#46039f\"],[0.2222222222222222,\"#7201a8\"],[0.3333333333333333,\"#9c179e\"],[0.4444444444444444,\"#bd3786\"],[0.5555555555555556,\"#d8576b\"],[0.6666666666666666,\"#ed7953\"],[0.7777777777777778,\"#fb9f3a\"],[0.8888888888888888,\"#fdca26\"],[1.0,\"#f0f921\"]]}],\"heatmap\":[{\"type\":\"heatmap\",\"colorbar\":{\"outlinewidth\":0,\"ticks\":\"\"},\"colorscale\":[[0.0,\"#0d0887\"],[0.1111111111111111,\"#46039f\"],[0.2222222222222222,\"#7201a8\"],[0.3333333333333333,\"#9c179e\"],[0.4444444444444444,\"#bd3786\"],[0.5555555555555556,\"#d8576b\"],[0.6666666666666666,\"#ed7953\"],[0.7777777777777778,\"#fb9f3a\"],[0.8888888888888888,\"#fdca26\"],[1.0,\"#f0f921\"]]}],\"heatmapgl\":[{\"type\":\"heatmapgl\",\"colorbar\":{\"outlinewidth\":0,\"ticks\":\"\"},\"colorscale\":[[0.0,\"#0d0887\"],[0.1111111111111111,\"#46039f\"],[0.2222222222222222,\"#7201a8\"],[0.3333333333333333,\"#9c179e\"],[0.4444444444444444,\"#bd3786\"],[0.5555555555555556,\"#d8576b\"],[0.6666666666666666,\"#ed7953\"],[0.7777777777777778,\"#fb9f3a\"],[0.8888888888888888,\"#fdca26\"],[1.0,\"#f0f921\"]]}],\"contourcarpet\":[{\"type\":\"contourcarpet\",\"colorbar\":{\"outlinewidth\":0,\"ticks\":\"\"}}],\"contour\":[{\"type\":\"contour\",\"colorbar\":{\"outlinewidth\":0,\"ticks\":\"\"},\"colorscale\":[[0.0,\"#0d0887\"],[0.1111111111111111,\"#46039f\"],[0.2222222222222222,\"#7201a8\"],[0.3333333333333333,\"#9c179e\"],[0.4444444444444444,\"#bd3786\"],[0.5555555555555556,\"#d8576b\"],[0.6666666666666666,\"#ed7953\"],[0.7777777777777778,\"#fb9f3a\"],[0.8888888888888888,\"#fdca26\"],[1.0,\"#f0f921\"]]}],\"surface\":[{\"type\":\"surface\",\"colorbar\":{\"outlinewidth\":0,\"ticks\":\"\"},\"colorscale\":[[0.0,\"#0d0887\"],[0.1111111111111111,\"#46039f\"],[0.2222222222222222,\"#7201a8\"],[0.3333333333333333,\"#9c179e\"],[0.4444444444444444,\"#bd3786\"],[0.5555555555555556,\"#d8576b\"],[0.6666666666666666,\"#ed7953\"],[0.7777777777777778,\"#fb9f3a\"],[0.8888888888888888,\"#fdca26\"],[1.0,\"#f0f921\"]]}],\"mesh3d\":[{\"type\":\"mesh3d\",\"colorbar\":{\"outlinewidth\":0,\"ticks\":\"\"}}],\"scatter\":[{\"fillpattern\":{\"fillmode\":\"overlay\",\"size\":10,\"solidity\":0.2},\"type\":\"scatter\"}],\"parcoords\":[{\"type\":\"parcoords\",\"line\":{\"colorbar\":{\"outlinewidth\":0,\"ticks\":\"\"}}}],\"scatterpolargl\":[{\"type\":\"scatterpolargl\",\"marker\":{\"colorbar\":{\"outlinewidth\":0,\"ticks\":\"\"}}}],\"bar\":[{\"error_x\":{\"color\":\"#2a3f5f\"},\"error_y\":{\"color\":\"#2a3f5f\"},\"marker\":{\"line\":{\"color\":\"#E5ECF6\",\"width\":0.5},\"pattern\":{\"fillmode\":\"overlay\",\"size\":10,\"solidity\":0.2}},\"type\":\"bar\"}],\"scattergeo\":[{\"type\":\"scattergeo\",\"marker\":{\"colorbar\":{\"outlinewidth\":0,\"ticks\":\"\"}}}],\"scatterpolar\":[{\"type\":\"scatterpolar\",\"marker\":{\"colorbar\":{\"outlinewidth\":0,\"ticks\":\"\"}}}],\"histogram\":[{\"marker\":{\"pattern\":{\"fillmode\":\"overlay\",\"size\":10,\"solidity\":0.2}},\"type\":\"histogram\"}],\"scattergl\":[{\"type\":\"scattergl\",\"marker\":{\"colorbar\":{\"outlinewidth\":0,\"ticks\":\"\"}}}],\"scatter3d\":[{\"type\":\"scatter3d\",\"line\":{\"colorbar\":{\"outlinewidth\":0,\"ticks\":\"\"}},\"marker\":{\"colorbar\":{\"outlinewidth\":0,\"ticks\":\"\"}}}],\"scattermapbox\":[{\"type\":\"scattermapbox\",\"marker\":{\"colorbar\":{\"outlinewidth\":0,\"ticks\":\"\"}}}],\"scatterternary\":[{\"type\":\"scatterternary\",\"marker\":{\"colorbar\":{\"outlinewidth\":0,\"ticks\":\"\"}}}],\"scattercarpet\":[{\"type\":\"scattercarpet\",\"marker\":{\"colorbar\":{\"outlinewidth\":0,\"ticks\":\"\"}}}],\"carpet\":[{\"aaxis\":{\"endlinecolor\":\"#2a3f5f\",\"gridcolor\":\"white\",\"linecolor\":\"white\",\"minorgridcolor\":\"white\",\"startlinecolor\":\"#2a3f5f\"},\"baxis\":{\"endlinecolor\":\"#2a3f5f\",\"gridcolor\":\"white\",\"linecolor\":\"white\",\"minorgridcolor\":\"white\",\"startlinecolor\":\"#2a3f5f\"},\"type\":\"carpet\"}],\"table\":[{\"cells\":{\"fill\":{\"color\":\"#EBF0F8\"},\"line\":{\"color\":\"white\"}},\"header\":{\"fill\":{\"color\":\"#C8D4E3\"},\"line\":{\"color\":\"white\"}},\"type\":\"table\"}],\"barpolar\":[{\"marker\":{\"line\":{\"color\":\"#E5ECF6\",\"width\":0.5},\"pattern\":{\"fillmode\":\"overlay\",\"size\":10,\"solidity\":0.2}},\"type\":\"barpolar\"}],\"pie\":[{\"automargin\":true,\"type\":\"pie\"}]},\"layout\":{\"autotypenumbers\":\"strict\",\"colorway\":[\"#636efa\",\"#EF553B\",\"#00cc96\",\"#ab63fa\",\"#FFA15A\",\"#19d3f3\",\"#FF6692\",\"#B6E880\",\"#FF97FF\",\"#FECB52\"],\"font\":{\"color\":\"#2a3f5f\"},\"hovermode\":\"closest\",\"hoverlabel\":{\"align\":\"left\"},\"paper_bgcolor\":\"white\",\"plot_bgcolor\":\"#E5ECF6\",\"polar\":{\"bgcolor\":\"#E5ECF6\",\"angularaxis\":{\"gridcolor\":\"white\",\"linecolor\":\"white\",\"ticks\":\"\"},\"radialaxis\":{\"gridcolor\":\"white\",\"linecolor\":\"white\",\"ticks\":\"\"}},\"ternary\":{\"bgcolor\":\"#E5ECF6\",\"aaxis\":{\"gridcolor\":\"white\",\"linecolor\":\"white\",\"ticks\":\"\"},\"baxis\":{\"gridcolor\":\"white\",\"linecolor\":\"white\",\"ticks\":\"\"},\"caxis\":{\"gridcolor\":\"white\",\"linecolor\":\"white\",\"ticks\":\"\"}},\"coloraxis\":{\"colorbar\":{\"outlinewidth\":0,\"ticks\":\"\"}},\"colorscale\":{\"sequential\":[[0.0,\"#0d0887\"],[0.1111111111111111,\"#46039f\"],[0.2222222222222222,\"#7201a8\"],[0.3333333333333333,\"#9c179e\"],[0.4444444444444444,\"#bd3786\"],[0.5555555555555556,\"#d8576b\"],[0.6666666666666666,\"#ed7953\"],[0.7777777777777778,\"#fb9f3a\"],[0.8888888888888888,\"#fdca26\"],[1.0,\"#f0f921\"]],\"sequentialminus\":[[0.0,\"#0d0887\"],[0.1111111111111111,\"#46039f\"],[0.2222222222222222,\"#7201a8\"],[0.3333333333333333,\"#9c179e\"],[0.4444444444444444,\"#bd3786\"],[0.5555555555555556,\"#d8576b\"],[0.6666666666666666,\"#ed7953\"],[0.7777777777777778,\"#fb9f3a\"],[0.8888888888888888,\"#fdca26\"],[1.0,\"#f0f921\"]],\"diverging\":[[0,\"#8e0152\"],[0.1,\"#c51b7d\"],[0.2,\"#de77ae\"],[0.3,\"#f1b6da\"],[0.4,\"#fde0ef\"],[0.5,\"#f7f7f7\"],[0.6,\"#e6f5d0\"],[0.7,\"#b8e186\"],[0.8,\"#7fbc41\"],[0.9,\"#4d9221\"],[1,\"#276419\"]]},\"xaxis\":{\"gridcolor\":\"white\",\"linecolor\":\"white\",\"ticks\":\"\",\"title\":{\"standoff\":15},\"zerolinecolor\":\"white\",\"automargin\":true,\"zerolinewidth\":2},\"yaxis\":{\"gridcolor\":\"white\",\"linecolor\":\"white\",\"ticks\":\"\",\"title\":{\"standoff\":15},\"zerolinecolor\":\"white\",\"automargin\":true,\"zerolinewidth\":2},\"scene\":{\"xaxis\":{\"backgroundcolor\":\"#E5ECF6\",\"gridcolor\":\"white\",\"linecolor\":\"white\",\"showbackground\":true,\"ticks\":\"\",\"zerolinecolor\":\"white\",\"gridwidth\":2},\"yaxis\":{\"backgroundcolor\":\"#E5ECF6\",\"gridcolor\":\"white\",\"linecolor\":\"white\",\"showbackground\":true,\"ticks\":\"\",\"zerolinecolor\":\"white\",\"gridwidth\":2},\"zaxis\":{\"backgroundcolor\":\"#E5ECF6\",\"gridcolor\":\"white\",\"linecolor\":\"white\",\"showbackground\":true,\"ticks\":\"\",\"zerolinecolor\":\"white\",\"gridwidth\":2}},\"shapedefaults\":{\"line\":{\"color\":\"#2a3f5f\"}},\"annotationdefaults\":{\"arrowcolor\":\"#2a3f5f\",\"arrowhead\":0,\"arrowwidth\":1},\"geo\":{\"bgcolor\":\"white\",\"landcolor\":\"#E5ECF6\",\"subunitcolor\":\"white\",\"showland\":true,\"showlakes\":true,\"lakecolor\":\"white\"},\"title\":{\"x\":0.05},\"mapbox\":{\"style\":\"light\"}}},\"scene\":{\"domain\":{\"x\":[0.0,1.0],\"y\":[0.0,1.0]},\"xaxis\":{\"title\":{\"text\":\"feature1\"}},\"yaxis\":{\"title\":{\"text\":\"feature2\"}},\"zaxis\":{\"title\":{\"text\":\"target\"}}},\"legend\":{\"tracegroupgap\":0},\"margin\":{\"t\":60}},                        {\"responsive\": true}                    ).then(function(){\n",
       "                            \n",
       "var gd = document.getElementById('42f341ba-8657-490c-82eb-8cfc2aa2c73e');\n",
       "var x = new MutationObserver(function (mutations, observer) {{\n",
       "        var display = window.getComputedStyle(gd).display;\n",
       "        if (!display || display === 'none') {{\n",
       "            console.log([gd, 'removed!']);\n",
       "            Plotly.purge(gd);\n",
       "            observer.disconnect();\n",
       "        }}\n",
       "}});\n",
       "\n",
       "// Listen for the removal of the full notebook cells\n",
       "var notebookContainer = gd.closest('#notebook-container');\n",
       "if (notebookContainer) {{\n",
       "    x.observe(notebookContainer, {childList: true});\n",
       "}}\n",
       "\n",
       "// Listen for the clearing of the current output cell\n",
       "var outputEl = gd.closest('.output');\n",
       "if (outputEl) {{\n",
       "    x.observe(outputEl, {childList: true});\n",
       "}}\n",
       "\n",
       "                        })                };                });            </script>        </div>"
      ]
     },
     "metadata": {},
     "output_type": "display_data"
    }
   ],
   "source": [
    "fig = px.scatter_3d(df, x='feature1', y='feature2', z='target')\n",
    "\n",
    "fig.add_trace(go.Surface(x = x, y = y, z =z ))\n",
    "\n",
    "fig.show()"
   ]
  },
  {
   "cell_type": "code",
   "execution_count": 50,
   "id": "3589793d-a5ab-4b2f-aca9-d0f6f704f773",
   "metadata": {},
   "outputs": [
    {
     "data": {
      "text/plain": [
       "array([27.02332468, 55.46796383])"
      ]
     },
     "execution_count": 50,
     "metadata": {},
     "output_type": "execute_result"
    }
   ],
   "source": [
    "lr.coef_"
   ]
  },
  {
   "cell_type": "code",
   "execution_count": 52,
   "id": "b3b1a297-86da-4ea1-a5a2-c02c7f27bc44",
   "metadata": {},
   "outputs": [
    {
     "data": {
      "text/plain": [
       "-4.689622466034145"
      ]
     },
     "execution_count": 52,
     "metadata": {},
     "output_type": "execute_result"
    }
   ],
   "source": [
    "lr.intercept_"
   ]
  },
  {
   "cell_type": "code",
   "execution_count": null,
   "id": "22123d49-2692-4cc5-8b44-3329ead852f6",
   "metadata": {},
   "outputs": [],
   "source": []
  }
 ],
 "metadata": {
  "kernelspec": {
   "display_name": "Python [conda env:base] *",
   "language": "python",
   "name": "conda-base-py"
  },
  "language_info": {
   "codemirror_mode": {
    "name": "ipython",
    "version": 3
   },
   "file_extension": ".py",
   "mimetype": "text/x-python",
   "name": "python",
   "nbconvert_exporter": "python",
   "pygments_lexer": "ipython3",
   "version": "3.12.7"
  }
 },
 "nbformat": 4,
 "nbformat_minor": 5
}
