{
 "cells": [
  {
   "cell_type": "markdown",
   "id": "c72691e1-ecac-43be-b4c3-5a86aa989837",
   "metadata": {},
   "source": [
    "# ElasticNet Regression | Intuition and Code Example | Regularized Linear Models"
   ]
  },
  {
   "cell_type": "code",
   "execution_count": 12,
   "id": "8755f856-c2e9-48d4-9672-97db229964b4",
   "metadata": {},
   "outputs": [],
   "source": [
    "from sklearn.datasets import load_diabetes \n",
    "from sklearn.model_selection import train_test_split\n",
    "from sklearn.linear_model import LinearRegression, Ridge, Lasso, ElasticNet\n",
    "from sklearn.metrics import r2_score"
   ]
  },
  {
   "cell_type": "code",
   "execution_count": 13,
   "id": "01138294-ceee-4bea-91eb-39a63551bdc2",
   "metadata": {},
   "outputs": [],
   "source": [
    "X, y = load_diabetes(return_X_y = True)"
   ]
  },
  {
   "cell_type": "code",
   "execution_count": 14,
   "id": "f1111c45-1c35-43c9-a42c-b3d0c347a996",
   "metadata": {},
   "outputs": [],
   "source": [
    "X_train, X_test, y_train, y_test = train_test_split(X,y, test_size = 0.2, random_state=42)"
   ]
  },
  {
   "cell_type": "code",
   "execution_count": 15,
   "id": "64c8100d-20f1-4c0d-b115-dd87a6226750",
   "metadata": {},
   "outputs": [
    {
     "data": {
      "text/plain": [
       "0.4526027629719196"
      ]
     },
     "execution_count": 15,
     "metadata": {},
     "output_type": "execute_result"
    }
   ],
   "source": [
    "# Linear Regression \n",
    "\n",
    "lr = LinearRegression()\n",
    "lr.fit(X_train,y_train)\n",
    "y_pred = lr.predict(X_test)\n",
    "r2_score(y_test, y_pred)"
   ]
  },
  {
   "cell_type": "code",
   "execution_count": 16,
   "id": "5d045dd7-aa0d-40c7-89d5-4427a32aea7c",
   "metadata": {},
   "outputs": [
    {
     "data": {
      "text/plain": [
       "0.4608521946411924"
      ]
     },
     "execution_count": 16,
     "metadata": {},
     "output_type": "execute_result"
    }
   ],
   "source": [
    "# Ridge Regression\n",
    "\n",
    "reg = Ridge(alpha = 0.1)\n",
    "reg.fit(X_train,y_train)\n",
    "y_pred1 = reg.predict(X_test)\n",
    "r2_score(y_test,y_pred1)"
   ]
  },
  {
   "cell_type": "code",
   "execution_count": 17,
   "id": "f7c2c507-48d0-4dd8-a02f-588b98a9bd2d",
   "metadata": {},
   "outputs": [
    {
     "data": {
      "text/plain": [
       "0.4566861194580625"
      ]
     },
     "execution_count": 17,
     "metadata": {},
     "output_type": "execute_result"
    }
   ],
   "source": [
    "# Lasso Regression\n",
    "\n",
    "ls = Lasso(alpha = 0.01)\n",
    "ls.fit(X_train, y_train)\n",
    "y_pred2 = ls.predict(X_test)\n",
    "r2_score(y_test, y_pred2)"
   ]
  },
  {
   "cell_type": "code",
   "execution_count": 18,
   "id": "a16ac42c-07cc-45dc-b669-2b9e42fd35ef",
   "metadata": {},
   "outputs": [
    {
     "data": {
      "text/plain": [
       "-0.0024652131111431164"
      ]
     },
     "execution_count": 18,
     "metadata": {},
     "output_type": "execute_result"
    }
   ],
   "source": [
    "# ElasticNet Regression\n",
    "# Default \n",
    "en = ElasticNet()\n",
    "en.fit(X_train,y_train)\n",
    "y_pred3 = en.predict(X_test)\n",
    "r2_score(y_test,y_pred3)"
   ]
  },
  {
   "cell_type": "code",
   "execution_count": 19,
   "id": "51a80559-4844-439c-a290-61160c881968",
   "metadata": {},
   "outputs": [
    {
     "data": {
      "text/plain": [
       "0.46192536271651097"
      ]
     },
     "execution_count": 19,
     "metadata": {},
     "output_type": "execute_result"
    }
   ],
   "source": [
    "# ElasticNet Regression\n",
    "\n",
    "en = ElasticNet(alpha = 0.005, l1_ratio =0.9)\n",
    "en.fit(X_train,y_train)\n",
    "y_pred3 = en.predict(X_test)\n",
    "r2_score(y_test,y_pred3)"
   ]
  },
  {
   "cell_type": "code",
   "execution_count": null,
   "id": "1842d964-c80b-4d76-b7de-3496b188077c",
   "metadata": {},
   "outputs": [],
   "source": []
  }
 ],
 "metadata": {
  "kernelspec": {
   "display_name": "Python [conda env:base] *",
   "language": "python",
   "name": "conda-base-py"
  },
  "language_info": {
   "codemirror_mode": {
    "name": "ipython",
    "version": 3
   },
   "file_extension": ".py",
   "mimetype": "text/x-python",
   "name": "python",
   "nbconvert_exporter": "python",
   "pygments_lexer": "ipython3",
   "version": "3.12.7"
  }
 },
 "nbformat": 4,
 "nbformat_minor": 5
}
